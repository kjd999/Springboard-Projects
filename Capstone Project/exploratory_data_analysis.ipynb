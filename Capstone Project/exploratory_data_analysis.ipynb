{
 "cells": [
  {
   "cell_type": "markdown",
   "metadata": {},
   "source": [
    "# Capstone 1 Exploratory Data Analysis"
   ]
  },
  {
   "cell_type": "markdown",
   "metadata": {},
   "source": [
    "#### Contents\n",
    "Introduction  <br>\n",
    "Salary difference of means above/below average 3PAr  <br> \n",
    "3PAr difference above/below average salary <br>\n",
    "ANOVA test of salary versus position <br>\n",
    "PER analysis"
   ]
  },
  {
   "cell_type": "markdown",
   "metadata": {},
   "source": [
    "### Introduction"
   ]
  },
  {
   "cell_type": "markdown",
   "metadata": {},
   "source": [
    "In the previous portion of the Capstone 1 project, we noticed several interesting trends based on a graphical analysis of our NBA dataset. First, salaries have increased fairly steadily since the 1990s. Second, in the 2000s, as the NBA playstyle has evolved to incorportate a higher number of 3-point shots, certain 3-point-associated statistics have increased including 3-point percentage and 3PAr, which is a ratio of 3-point attempts divided by field goal attempts. Third, usage percentage appears to be higher among older players.  "
   ]
  },
  {
   "cell_type": "markdown",
   "metadata": {},
   "source": [
    "We'll begin by importing the necessary libraries and reading the relevant dataset. "
   ]
  },
  {
   "cell_type": "code",
   "execution_count": 2,
   "metadata": {},
   "outputs": [],
   "source": [
    "# Import the appropriate libraries\n",
    "import pandas as pd\n",
    "import numpy as np\n",
    "import matplotlib.pyplot as plt\n",
    "import seaborn as sns\n",
    "from scipy import stats"
   ]
  },
  {
   "cell_type": "code",
   "execution_count": 3,
   "metadata": {},
   "outputs": [],
   "source": [
    "# Allow all columns to be displayed\n",
    "pd.set_option('display.max_columns', 999)"
   ]
  },
  {
   "cell_type": "code",
   "execution_count": 4,
   "metadata": {},
   "outputs": [
    {
     "data": {
      "text/html": [
       "<div>\n",
       "<style scoped>\n",
       "    .dataframe tbody tr th:only-of-type {\n",
       "        vertical-align: middle;\n",
       "    }\n",
       "\n",
       "    .dataframe tbody tr th {\n",
       "        vertical-align: top;\n",
       "    }\n",
       "\n",
       "    .dataframe thead th {\n",
       "        text-align: right;\n",
       "    }\n",
       "</style>\n",
       "<table border=\"1\" class=\"dataframe\">\n",
       "  <thead>\n",
       "    <tr style=\"text-align: right;\">\n",
       "      <th></th>\n",
       "      <th>Unnamed: 0</th>\n",
       "      <th>Player</th>\n",
       "      <th>year_start</th>\n",
       "      <th>year_end</th>\n",
       "      <th>Year</th>\n",
       "      <th>Team</th>\n",
       "      <th>Salary</th>\n",
       "      <th>Pos</th>\n",
       "      <th>Age</th>\n",
       "      <th>G</th>\n",
       "      <th>GS</th>\n",
       "      <th>MP</th>\n",
       "      <th>PER</th>\n",
       "      <th>TS%</th>\n",
       "      <th>3PAr</th>\n",
       "      <th>FTr</th>\n",
       "      <th>ORB%</th>\n",
       "      <th>DRB%</th>\n",
       "      <th>TRB%</th>\n",
       "      <th>AST%</th>\n",
       "      <th>STL%</th>\n",
       "      <th>BLK%</th>\n",
       "      <th>TOV%</th>\n",
       "      <th>USG%</th>\n",
       "      <th>OWS</th>\n",
       "      <th>DWS</th>\n",
       "      <th>WS</th>\n",
       "      <th>WS/48</th>\n",
       "      <th>OBPM</th>\n",
       "      <th>DBPM</th>\n",
       "      <th>BPM</th>\n",
       "      <th>VORP</th>\n",
       "      <th>FG</th>\n",
       "      <th>FGA</th>\n",
       "      <th>FG%</th>\n",
       "      <th>3P</th>\n",
       "      <th>3PA</th>\n",
       "      <th>3P%</th>\n",
       "      <th>2P</th>\n",
       "      <th>2PA</th>\n",
       "      <th>2P%</th>\n",
       "      <th>eFG%</th>\n",
       "      <th>FT</th>\n",
       "      <th>FTA</th>\n",
       "      <th>FT%</th>\n",
       "      <th>ORB</th>\n",
       "      <th>DRB</th>\n",
       "      <th>TRB</th>\n",
       "      <th>AST</th>\n",
       "      <th>STL</th>\n",
       "      <th>BLK</th>\n",
       "      <th>TOV</th>\n",
       "      <th>PF</th>\n",
       "      <th>PTS</th>\n",
       "      <th>PPG</th>\n",
       "      <th>career_len</th>\n",
       "    </tr>\n",
       "  </thead>\n",
       "  <tbody>\n",
       "    <tr>\n",
       "      <th>0</th>\n",
       "      <td>0</td>\n",
       "      <td>Alaa Abdelnaby</td>\n",
       "      <td>1991</td>\n",
       "      <td>1995</td>\n",
       "      <td>1991</td>\n",
       "      <td>Portland Trailblazers</td>\n",
       "      <td>395000</td>\n",
       "      <td>PF</td>\n",
       "      <td>22.0</td>\n",
       "      <td>43.0</td>\n",
       "      <td>0.0</td>\n",
       "      <td>290.0</td>\n",
       "      <td>13.1</td>\n",
       "      <td>0.499</td>\n",
       "      <td>0.000</td>\n",
       "      <td>0.379</td>\n",
       "      <td>10.4</td>\n",
       "      <td>23.4</td>\n",
       "      <td>17.0</td>\n",
       "      <td>5.8</td>\n",
       "      <td>0.7</td>\n",
       "      <td>2.5</td>\n",
       "      <td>14.0</td>\n",
       "      <td>22.1</td>\n",
       "      <td>0.0</td>\n",
       "      <td>0.5</td>\n",
       "      <td>0.5</td>\n",
       "      <td>0.079</td>\n",
       "      <td>-4.2</td>\n",
       "      <td>-0.7</td>\n",
       "      <td>-5.0</td>\n",
       "      <td>-0.2</td>\n",
       "      <td>55.0</td>\n",
       "      <td>116.0</td>\n",
       "      <td>0.474</td>\n",
       "      <td>0.0</td>\n",
       "      <td>0.0</td>\n",
       "      <td>0.000</td>\n",
       "      <td>55.0</td>\n",
       "      <td>116.0</td>\n",
       "      <td>0.474</td>\n",
       "      <td>0.474</td>\n",
       "      <td>25.0</td>\n",
       "      <td>44.0</td>\n",
       "      <td>0.568</td>\n",
       "      <td>27.0</td>\n",
       "      <td>62.0</td>\n",
       "      <td>89.0</td>\n",
       "      <td>12.0</td>\n",
       "      <td>4.0</td>\n",
       "      <td>12.0</td>\n",
       "      <td>22.0</td>\n",
       "      <td>39.0</td>\n",
       "      <td>135.0</td>\n",
       "      <td>3.1</td>\n",
       "      <td>4</td>\n",
       "    </tr>\n",
       "    <tr>\n",
       "      <th>1</th>\n",
       "      <td>1</td>\n",
       "      <td>Alaa Abdelnaby</td>\n",
       "      <td>1991</td>\n",
       "      <td>1995</td>\n",
       "      <td>1992</td>\n",
       "      <td>Portland Trailblazers</td>\n",
       "      <td>494000</td>\n",
       "      <td>PF</td>\n",
       "      <td>23.0</td>\n",
       "      <td>71.0</td>\n",
       "      <td>1.0</td>\n",
       "      <td>934.0</td>\n",
       "      <td>13.5</td>\n",
       "      <td>0.533</td>\n",
       "      <td>0.000</td>\n",
       "      <td>0.280</td>\n",
       "      <td>9.5</td>\n",
       "      <td>20.9</td>\n",
       "      <td>15.2</td>\n",
       "      <td>4.7</td>\n",
       "      <td>1.3</td>\n",
       "      <td>1.1</td>\n",
       "      <td>14.0</td>\n",
       "      <td>20.6</td>\n",
       "      <td>0.6</td>\n",
       "      <td>1.5</td>\n",
       "      <td>2.1</td>\n",
       "      <td>0.110</td>\n",
       "      <td>-3.0</td>\n",
       "      <td>-0.9</td>\n",
       "      <td>-3.9</td>\n",
       "      <td>-0.5</td>\n",
       "      <td>178.0</td>\n",
       "      <td>361.0</td>\n",
       "      <td>0.493</td>\n",
       "      <td>0.0</td>\n",
       "      <td>0.0</td>\n",
       "      <td>0.000</td>\n",
       "      <td>178.0</td>\n",
       "      <td>361.0</td>\n",
       "      <td>0.493</td>\n",
       "      <td>0.493</td>\n",
       "      <td>76.0</td>\n",
       "      <td>101.0</td>\n",
       "      <td>0.752</td>\n",
       "      <td>81.0</td>\n",
       "      <td>179.0</td>\n",
       "      <td>260.0</td>\n",
       "      <td>30.0</td>\n",
       "      <td>25.0</td>\n",
       "      <td>16.0</td>\n",
       "      <td>66.0</td>\n",
       "      <td>132.0</td>\n",
       "      <td>432.0</td>\n",
       "      <td>6.1</td>\n",
       "      <td>4</td>\n",
       "    </tr>\n",
       "    <tr>\n",
       "      <th>2</th>\n",
       "      <td>2</td>\n",
       "      <td>Alaa Abdelnaby</td>\n",
       "      <td>1991</td>\n",
       "      <td>1995</td>\n",
       "      <td>1993</td>\n",
       "      <td>Boston Celtics</td>\n",
       "      <td>500000</td>\n",
       "      <td>PF</td>\n",
       "      <td>24.0</td>\n",
       "      <td>75.0</td>\n",
       "      <td>52.0</td>\n",
       "      <td>1311.0</td>\n",
       "      <td>13.2</td>\n",
       "      <td>0.551</td>\n",
       "      <td>0.002</td>\n",
       "      <td>0.245</td>\n",
       "      <td>11.0</td>\n",
       "      <td>18.1</td>\n",
       "      <td>14.6</td>\n",
       "      <td>3.0</td>\n",
       "      <td>1.0</td>\n",
       "      <td>1.2</td>\n",
       "      <td>15.6</td>\n",
       "      <td>20.5</td>\n",
       "      <td>0.7</td>\n",
       "      <td>1.3</td>\n",
       "      <td>2.0</td>\n",
       "      <td>0.074</td>\n",
       "      <td>-2.3</td>\n",
       "      <td>-1.9</td>\n",
       "      <td>-4.2</td>\n",
       "      <td>-0.7</td>\n",
       "      <td>245.0</td>\n",
       "      <td>473.0</td>\n",
       "      <td>0.518</td>\n",
       "      <td>0.0</td>\n",
       "      <td>1.0</td>\n",
       "      <td>0.000</td>\n",
       "      <td>245.0</td>\n",
       "      <td>472.0</td>\n",
       "      <td>0.519</td>\n",
       "      <td>0.518</td>\n",
       "      <td>88.0</td>\n",
       "      <td>116.0</td>\n",
       "      <td>0.759</td>\n",
       "      <td>126.0</td>\n",
       "      <td>211.0</td>\n",
       "      <td>337.0</td>\n",
       "      <td>27.0</td>\n",
       "      <td>25.0</td>\n",
       "      <td>26.0</td>\n",
       "      <td>97.0</td>\n",
       "      <td>189.0</td>\n",
       "      <td>578.0</td>\n",
       "      <td>7.7</td>\n",
       "      <td>4</td>\n",
       "    </tr>\n",
       "    <tr>\n",
       "      <th>3</th>\n",
       "      <td>3</td>\n",
       "      <td>Alaa Abdelnaby</td>\n",
       "      <td>1991</td>\n",
       "      <td>1995</td>\n",
       "      <td>1994</td>\n",
       "      <td>Boston Celtics</td>\n",
       "      <td>805000</td>\n",
       "      <td>PF</td>\n",
       "      <td>25.0</td>\n",
       "      <td>13.0</td>\n",
       "      <td>0.0</td>\n",
       "      <td>159.0</td>\n",
       "      <td>9.2</td>\n",
       "      <td>0.485</td>\n",
       "      <td>0.000</td>\n",
       "      <td>0.455</td>\n",
       "      <td>8.5</td>\n",
       "      <td>24.2</td>\n",
       "      <td>16.3</td>\n",
       "      <td>2.7</td>\n",
       "      <td>0.6</td>\n",
       "      <td>1.2</td>\n",
       "      <td>20.5</td>\n",
       "      <td>22.6</td>\n",
       "      <td>-0.2</td>\n",
       "      <td>0.1</td>\n",
       "      <td>-0.1</td>\n",
       "      <td>-0.032</td>\n",
       "      <td>-7.1</td>\n",
       "      <td>-3.1</td>\n",
       "      <td>-10.2</td>\n",
       "      <td>-0.3</td>\n",
       "      <td>24.0</td>\n",
       "      <td>55.0</td>\n",
       "      <td>0.436</td>\n",
       "      <td>0.0</td>\n",
       "      <td>0.0</td>\n",
       "      <td>0.000</td>\n",
       "      <td>24.0</td>\n",
       "      <td>55.0</td>\n",
       "      <td>0.436</td>\n",
       "      <td>0.436</td>\n",
       "      <td>16.0</td>\n",
       "      <td>25.0</td>\n",
       "      <td>0.640</td>\n",
       "      <td>12.0</td>\n",
       "      <td>34.0</td>\n",
       "      <td>46.0</td>\n",
       "      <td>3.0</td>\n",
       "      <td>2.0</td>\n",
       "      <td>3.0</td>\n",
       "      <td>17.0</td>\n",
       "      <td>20.0</td>\n",
       "      <td>64.0</td>\n",
       "      <td>4.9</td>\n",
       "      <td>4</td>\n",
       "    </tr>\n",
       "    <tr>\n",
       "      <th>4</th>\n",
       "      <td>4</td>\n",
       "      <td>Alaa Abdelnaby</td>\n",
       "      <td>1991</td>\n",
       "      <td>1995</td>\n",
       "      <td>1995</td>\n",
       "      <td>Sacramento Kings</td>\n",
       "      <td>650000</td>\n",
       "      <td>PF</td>\n",
       "      <td>26.0</td>\n",
       "      <td>54.0</td>\n",
       "      <td>0.0</td>\n",
       "      <td>506.0</td>\n",
       "      <td>12.6</td>\n",
       "      <td>0.519</td>\n",
       "      <td>0.009</td>\n",
       "      <td>0.152</td>\n",
       "      <td>8.7</td>\n",
       "      <td>17.4</td>\n",
       "      <td>13.1</td>\n",
       "      <td>5.0</td>\n",
       "      <td>1.5</td>\n",
       "      <td>1.8</td>\n",
       "      <td>15.4</td>\n",
       "      <td>25.6</td>\n",
       "      <td>-0.4</td>\n",
       "      <td>0.7</td>\n",
       "      <td>0.3</td>\n",
       "      <td>0.027</td>\n",
       "      <td>-4.6</td>\n",
       "      <td>-1.7</td>\n",
       "      <td>-6.3</td>\n",
       "      <td>-0.6</td>\n",
       "      <td>118.0</td>\n",
       "      <td>231.0</td>\n",
       "      <td>0.511</td>\n",
       "      <td>0.0</td>\n",
       "      <td>2.0</td>\n",
       "      <td>0.000</td>\n",
       "      <td>118.0</td>\n",
       "      <td>229.0</td>\n",
       "      <td>0.515</td>\n",
       "      <td>0.511</td>\n",
       "      <td>20.0</td>\n",
       "      <td>35.0</td>\n",
       "      <td>0.571</td>\n",
       "      <td>37.0</td>\n",
       "      <td>77.0</td>\n",
       "      <td>114.0</td>\n",
       "      <td>13.0</td>\n",
       "      <td>15.0</td>\n",
       "      <td>12.0</td>\n",
       "      <td>45.0</td>\n",
       "      <td>104.0</td>\n",
       "      <td>256.0</td>\n",
       "      <td>4.7</td>\n",
       "      <td>4</td>\n",
       "    </tr>\n",
       "    <tr>\n",
       "      <th>5</th>\n",
       "      <td>5</td>\n",
       "      <td>Mahmoud Abdul-Rauf</td>\n",
       "      <td>1991</td>\n",
       "      <td>2001</td>\n",
       "      <td>1991</td>\n",
       "      <td>Denver Nuggets</td>\n",
       "      <td>1660000</td>\n",
       "      <td>PG</td>\n",
       "      <td>21.0</td>\n",
       "      <td>67.0</td>\n",
       "      <td>19.0</td>\n",
       "      <td>1505.0</td>\n",
       "      <td>12.2</td>\n",
       "      <td>0.448</td>\n",
       "      <td>0.099</td>\n",
       "      <td>0.097</td>\n",
       "      <td>1.9</td>\n",
       "      <td>6.0</td>\n",
       "      <td>3.8</td>\n",
       "      <td>19.2</td>\n",
       "      <td>1.5</td>\n",
       "      <td>0.1</td>\n",
       "      <td>9.5</td>\n",
       "      <td>27.2</td>\n",
       "      <td>-0.7</td>\n",
       "      <td>-0.3</td>\n",
       "      <td>-1.0</td>\n",
       "      <td>-0.031</td>\n",
       "      <td>-1.7</td>\n",
       "      <td>-4.4</td>\n",
       "      <td>-6.1</td>\n",
       "      <td>-1.6</td>\n",
       "      <td>417.0</td>\n",
       "      <td>1009.0</td>\n",
       "      <td>0.413</td>\n",
       "      <td>24.0</td>\n",
       "      <td>100.0</td>\n",
       "      <td>0.240</td>\n",
       "      <td>393.0</td>\n",
       "      <td>909.0</td>\n",
       "      <td>0.432</td>\n",
       "      <td>0.425</td>\n",
       "      <td>84.0</td>\n",
       "      <td>98.0</td>\n",
       "      <td>0.857</td>\n",
       "      <td>34.0</td>\n",
       "      <td>87.0</td>\n",
       "      <td>121.0</td>\n",
       "      <td>206.0</td>\n",
       "      <td>55.0</td>\n",
       "      <td>4.0</td>\n",
       "      <td>110.0</td>\n",
       "      <td>149.0</td>\n",
       "      <td>942.0</td>\n",
       "      <td>14.1</td>\n",
       "      <td>10</td>\n",
       "    </tr>\n",
       "    <tr>\n",
       "      <th>6</th>\n",
       "      <td>6</td>\n",
       "      <td>Mahmoud Abdul-Rauf</td>\n",
       "      <td>1991</td>\n",
       "      <td>2001</td>\n",
       "      <td>1992</td>\n",
       "      <td>Denver Nuggets</td>\n",
       "      <td>2008000</td>\n",
       "      <td>PG</td>\n",
       "      <td>22.0</td>\n",
       "      <td>81.0</td>\n",
       "      <td>11.0</td>\n",
       "      <td>1538.0</td>\n",
       "      <td>12.6</td>\n",
       "      <td>0.469</td>\n",
       "      <td>0.111</td>\n",
       "      <td>0.128</td>\n",
       "      <td>1.5</td>\n",
       "      <td>6.8</td>\n",
       "      <td>4.0</td>\n",
       "      <td>21.0</td>\n",
       "      <td>1.4</td>\n",
       "      <td>0.2</td>\n",
       "      <td>11.6</td>\n",
       "      <td>26.7</td>\n",
       "      <td>-0.2</td>\n",
       "      <td>0.8</td>\n",
       "      <td>0.6</td>\n",
       "      <td>0.018</td>\n",
       "      <td>-1.7</td>\n",
       "      <td>-3.5</td>\n",
       "      <td>-5.2</td>\n",
       "      <td>-1.3</td>\n",
       "      <td>356.0</td>\n",
       "      <td>845.0</td>\n",
       "      <td>0.421</td>\n",
       "      <td>31.0</td>\n",
       "      <td>94.0</td>\n",
       "      <td>0.330</td>\n",
       "      <td>325.0</td>\n",
       "      <td>751.0</td>\n",
       "      <td>0.433</td>\n",
       "      <td>0.440</td>\n",
       "      <td>94.0</td>\n",
       "      <td>108.0</td>\n",
       "      <td>0.870</td>\n",
       "      <td>22.0</td>\n",
       "      <td>92.0</td>\n",
       "      <td>114.0</td>\n",
       "      <td>192.0</td>\n",
       "      <td>44.0</td>\n",
       "      <td>4.0</td>\n",
       "      <td>117.0</td>\n",
       "      <td>130.0</td>\n",
       "      <td>837.0</td>\n",
       "      <td>10.3</td>\n",
       "      <td>10</td>\n",
       "    </tr>\n",
       "    <tr>\n",
       "      <th>7</th>\n",
       "      <td>7</td>\n",
       "      <td>Mahmoud Abdul-Rauf</td>\n",
       "      <td>1991</td>\n",
       "      <td>2001</td>\n",
       "      <td>1993</td>\n",
       "      <td>Denver Nuggets</td>\n",
       "      <td>2358000</td>\n",
       "      <td>PG</td>\n",
       "      <td>23.0</td>\n",
       "      <td>81.0</td>\n",
       "      <td>81.0</td>\n",
       "      <td>2710.0</td>\n",
       "      <td>15.6</td>\n",
       "      <td>0.515</td>\n",
       "      <td>0.140</td>\n",
       "      <td>0.165</td>\n",
       "      <td>2.0</td>\n",
       "      <td>6.8</td>\n",
       "      <td>4.4</td>\n",
       "      <td>20.8</td>\n",
       "      <td>1.5</td>\n",
       "      <td>0.2</td>\n",
       "      <td>11.0</td>\n",
       "      <td>25.5</td>\n",
       "      <td>3.0</td>\n",
       "      <td>2.2</td>\n",
       "      <td>5.1</td>\n",
       "      <td>0.091</td>\n",
       "      <td>1.1</td>\n",
       "      <td>-2.1</td>\n",
       "      <td>-1.0</td>\n",
       "      <td>0.7</td>\n",
       "      <td>633.0</td>\n",
       "      <td>1407.0</td>\n",
       "      <td>0.450</td>\n",
       "      <td>70.0</td>\n",
       "      <td>197.0</td>\n",
       "      <td>0.355</td>\n",
       "      <td>563.0</td>\n",
       "      <td>1210.0</td>\n",
       "      <td>0.465</td>\n",
       "      <td>0.475</td>\n",
       "      <td>217.0</td>\n",
       "      <td>232.0</td>\n",
       "      <td>0.935</td>\n",
       "      <td>51.0</td>\n",
       "      <td>174.0</td>\n",
       "      <td>225.0</td>\n",
       "      <td>344.0</td>\n",
       "      <td>84.0</td>\n",
       "      <td>8.0</td>\n",
       "      <td>187.0</td>\n",
       "      <td>179.0</td>\n",
       "      <td>1553.0</td>\n",
       "      <td>19.2</td>\n",
       "      <td>10</td>\n",
       "    </tr>\n",
       "    <tr>\n",
       "      <th>8</th>\n",
       "      <td>8</td>\n",
       "      <td>Mahmoud Abdul-Rauf</td>\n",
       "      <td>1991</td>\n",
       "      <td>2001</td>\n",
       "      <td>1994</td>\n",
       "      <td>Denver Nuggets</td>\n",
       "      <td>1825000</td>\n",
       "      <td>PG</td>\n",
       "      <td>24.0</td>\n",
       "      <td>80.0</td>\n",
       "      <td>78.0</td>\n",
       "      <td>2617.0</td>\n",
       "      <td>16.7</td>\n",
       "      <td>0.521</td>\n",
       "      <td>0.104</td>\n",
       "      <td>0.179</td>\n",
       "      <td>1.2</td>\n",
       "      <td>5.8</td>\n",
       "      <td>3.6</td>\n",
       "      <td>24.1</td>\n",
       "      <td>1.6</td>\n",
       "      <td>0.2</td>\n",
       "      <td>9.9</td>\n",
       "      <td>24.9</td>\n",
       "      <td>4.4</td>\n",
       "      <td>2.4</td>\n",
       "      <td>6.8</td>\n",
       "      <td>0.125</td>\n",
       "      <td>1.6</td>\n",
       "      <td>-2.1</td>\n",
       "      <td>-0.6</td>\n",
       "      <td>0.9</td>\n",
       "      <td>588.0</td>\n",
       "      <td>1279.0</td>\n",
       "      <td>0.460</td>\n",
       "      <td>42.0</td>\n",
       "      <td>133.0</td>\n",
       "      <td>0.316</td>\n",
       "      <td>546.0</td>\n",
       "      <td>1146.0</td>\n",
       "      <td>0.476</td>\n",
       "      <td>0.476</td>\n",
       "      <td>219.0</td>\n",
       "      <td>229.0</td>\n",
       "      <td>0.956</td>\n",
       "      <td>27.0</td>\n",
       "      <td>141.0</td>\n",
       "      <td>168.0</td>\n",
       "      <td>362.0</td>\n",
       "      <td>82.0</td>\n",
       "      <td>10.0</td>\n",
       "      <td>151.0</td>\n",
       "      <td>150.0</td>\n",
       "      <td>1437.0</td>\n",
       "      <td>18.0</td>\n",
       "      <td>10</td>\n",
       "    </tr>\n",
       "    <tr>\n",
       "      <th>9</th>\n",
       "      <td>9</td>\n",
       "      <td>Mahmoud Abdul-Rauf</td>\n",
       "      <td>1991</td>\n",
       "      <td>2001</td>\n",
       "      <td>1995</td>\n",
       "      <td>Denver Nuggets</td>\n",
       "      <td>2200000</td>\n",
       "      <td>PG</td>\n",
       "      <td>25.0</td>\n",
       "      <td>73.0</td>\n",
       "      <td>43.0</td>\n",
       "      <td>2082.0</td>\n",
       "      <td>17.8</td>\n",
       "      <td>0.543</td>\n",
       "      <td>0.214</td>\n",
       "      <td>0.155</td>\n",
       "      <td>1.9</td>\n",
       "      <td>5.9</td>\n",
       "      <td>3.9</td>\n",
       "      <td>23.0</td>\n",
       "      <td>1.9</td>\n",
       "      <td>0.3</td>\n",
       "      <td>10.0</td>\n",
       "      <td>25.8</td>\n",
       "      <td>3.8</td>\n",
       "      <td>1.3</td>\n",
       "      <td>5.0</td>\n",
       "      <td>0.115</td>\n",
       "      <td>2.2</td>\n",
       "      <td>-2.8</td>\n",
       "      <td>-0.6</td>\n",
       "      <td>0.7</td>\n",
       "      <td>472.0</td>\n",
       "      <td>1005.0</td>\n",
       "      <td>0.470</td>\n",
       "      <td>83.0</td>\n",
       "      <td>215.0</td>\n",
       "      <td>0.386</td>\n",
       "      <td>389.0</td>\n",
       "      <td>790.0</td>\n",
       "      <td>0.492</td>\n",
       "      <td>0.511</td>\n",
       "      <td>138.0</td>\n",
       "      <td>156.0</td>\n",
       "      <td>0.885</td>\n",
       "      <td>32.0</td>\n",
       "      <td>105.0</td>\n",
       "      <td>137.0</td>\n",
       "      <td>263.0</td>\n",
       "      <td>77.0</td>\n",
       "      <td>9.0</td>\n",
       "      <td>119.0</td>\n",
       "      <td>126.0</td>\n",
       "      <td>1165.0</td>\n",
       "      <td>16.0</td>\n",
       "      <td>10</td>\n",
       "    </tr>\n",
       "  </tbody>\n",
       "</table>\n",
       "</div>"
      ],
      "text/plain": [
       "   Unnamed: 0              Player  year_start  year_end  Year  \\\n",
       "0           0      Alaa Abdelnaby        1991      1995  1991   \n",
       "1           1      Alaa Abdelnaby        1991      1995  1992   \n",
       "2           2      Alaa Abdelnaby        1991      1995  1993   \n",
       "3           3      Alaa Abdelnaby        1991      1995  1994   \n",
       "4           4      Alaa Abdelnaby        1991      1995  1995   \n",
       "5           5  Mahmoud Abdul-Rauf        1991      2001  1991   \n",
       "6           6  Mahmoud Abdul-Rauf        1991      2001  1992   \n",
       "7           7  Mahmoud Abdul-Rauf        1991      2001  1993   \n",
       "8           8  Mahmoud Abdul-Rauf        1991      2001  1994   \n",
       "9           9  Mahmoud Abdul-Rauf        1991      2001  1995   \n",
       "\n",
       "                    Team   Salary Pos   Age     G    GS      MP   PER    TS%  \\\n",
       "0  Portland Trailblazers   395000  PF  22.0  43.0   0.0   290.0  13.1  0.499   \n",
       "1  Portland Trailblazers   494000  PF  23.0  71.0   1.0   934.0  13.5  0.533   \n",
       "2         Boston Celtics   500000  PF  24.0  75.0  52.0  1311.0  13.2  0.551   \n",
       "3         Boston Celtics   805000  PF  25.0  13.0   0.0   159.0   9.2  0.485   \n",
       "4       Sacramento Kings   650000  PF  26.0  54.0   0.0   506.0  12.6  0.519   \n",
       "5         Denver Nuggets  1660000  PG  21.0  67.0  19.0  1505.0  12.2  0.448   \n",
       "6         Denver Nuggets  2008000  PG  22.0  81.0  11.0  1538.0  12.6  0.469   \n",
       "7         Denver Nuggets  2358000  PG  23.0  81.0  81.0  2710.0  15.6  0.515   \n",
       "8         Denver Nuggets  1825000  PG  24.0  80.0  78.0  2617.0  16.7  0.521   \n",
       "9         Denver Nuggets  2200000  PG  25.0  73.0  43.0  2082.0  17.8  0.543   \n",
       "\n",
       "    3PAr    FTr  ORB%  DRB%  TRB%  AST%  STL%  BLK%  TOV%  USG%  OWS  DWS  \\\n",
       "0  0.000  0.379  10.4  23.4  17.0   5.8   0.7   2.5  14.0  22.1  0.0  0.5   \n",
       "1  0.000  0.280   9.5  20.9  15.2   4.7   1.3   1.1  14.0  20.6  0.6  1.5   \n",
       "2  0.002  0.245  11.0  18.1  14.6   3.0   1.0   1.2  15.6  20.5  0.7  1.3   \n",
       "3  0.000  0.455   8.5  24.2  16.3   2.7   0.6   1.2  20.5  22.6 -0.2  0.1   \n",
       "4  0.009  0.152   8.7  17.4  13.1   5.0   1.5   1.8  15.4  25.6 -0.4  0.7   \n",
       "5  0.099  0.097   1.9   6.0   3.8  19.2   1.5   0.1   9.5  27.2 -0.7 -0.3   \n",
       "6  0.111  0.128   1.5   6.8   4.0  21.0   1.4   0.2  11.6  26.7 -0.2  0.8   \n",
       "7  0.140  0.165   2.0   6.8   4.4  20.8   1.5   0.2  11.0  25.5  3.0  2.2   \n",
       "8  0.104  0.179   1.2   5.8   3.6  24.1   1.6   0.2   9.9  24.9  4.4  2.4   \n",
       "9  0.214  0.155   1.9   5.9   3.9  23.0   1.9   0.3  10.0  25.8  3.8  1.3   \n",
       "\n",
       "    WS  WS/48  OBPM  DBPM   BPM  VORP     FG     FGA    FG%    3P    3PA  \\\n",
       "0  0.5  0.079  -4.2  -0.7  -5.0  -0.2   55.0   116.0  0.474   0.0    0.0   \n",
       "1  2.1  0.110  -3.0  -0.9  -3.9  -0.5  178.0   361.0  0.493   0.0    0.0   \n",
       "2  2.0  0.074  -2.3  -1.9  -4.2  -0.7  245.0   473.0  0.518   0.0    1.0   \n",
       "3 -0.1 -0.032  -7.1  -3.1 -10.2  -0.3   24.0    55.0  0.436   0.0    0.0   \n",
       "4  0.3  0.027  -4.6  -1.7  -6.3  -0.6  118.0   231.0  0.511   0.0    2.0   \n",
       "5 -1.0 -0.031  -1.7  -4.4  -6.1  -1.6  417.0  1009.0  0.413  24.0  100.0   \n",
       "6  0.6  0.018  -1.7  -3.5  -5.2  -1.3  356.0   845.0  0.421  31.0   94.0   \n",
       "7  5.1  0.091   1.1  -2.1  -1.0   0.7  633.0  1407.0  0.450  70.0  197.0   \n",
       "8  6.8  0.125   1.6  -2.1  -0.6   0.9  588.0  1279.0  0.460  42.0  133.0   \n",
       "9  5.0  0.115   2.2  -2.8  -0.6   0.7  472.0  1005.0  0.470  83.0  215.0   \n",
       "\n",
       "     3P%     2P     2PA    2P%   eFG%     FT    FTA    FT%    ORB    DRB  \\\n",
       "0  0.000   55.0   116.0  0.474  0.474   25.0   44.0  0.568   27.0   62.0   \n",
       "1  0.000  178.0   361.0  0.493  0.493   76.0  101.0  0.752   81.0  179.0   \n",
       "2  0.000  245.0   472.0  0.519  0.518   88.0  116.0  0.759  126.0  211.0   \n",
       "3  0.000   24.0    55.0  0.436  0.436   16.0   25.0  0.640   12.0   34.0   \n",
       "4  0.000  118.0   229.0  0.515  0.511   20.0   35.0  0.571   37.0   77.0   \n",
       "5  0.240  393.0   909.0  0.432  0.425   84.0   98.0  0.857   34.0   87.0   \n",
       "6  0.330  325.0   751.0  0.433  0.440   94.0  108.0  0.870   22.0   92.0   \n",
       "7  0.355  563.0  1210.0  0.465  0.475  217.0  232.0  0.935   51.0  174.0   \n",
       "8  0.316  546.0  1146.0  0.476  0.476  219.0  229.0  0.956   27.0  141.0   \n",
       "9  0.386  389.0   790.0  0.492  0.511  138.0  156.0  0.885   32.0  105.0   \n",
       "\n",
       "     TRB    AST   STL   BLK    TOV     PF     PTS   PPG  career_len  \n",
       "0   89.0   12.0   4.0  12.0   22.0   39.0   135.0   3.1           4  \n",
       "1  260.0   30.0  25.0  16.0   66.0  132.0   432.0   6.1           4  \n",
       "2  337.0   27.0  25.0  26.0   97.0  189.0   578.0   7.7           4  \n",
       "3   46.0    3.0   2.0   3.0   17.0   20.0    64.0   4.9           4  \n",
       "4  114.0   13.0  15.0  12.0   45.0  104.0   256.0   4.7           4  \n",
       "5  121.0  206.0  55.0   4.0  110.0  149.0   942.0  14.1          10  \n",
       "6  114.0  192.0  44.0   4.0  117.0  130.0   837.0  10.3          10  \n",
       "7  225.0  344.0  84.0   8.0  187.0  179.0  1553.0  19.2          10  \n",
       "8  168.0  362.0  82.0  10.0  151.0  150.0  1437.0  18.0          10  \n",
       "9  137.0  263.0  77.0   9.0  119.0  126.0  1165.0  16.0          10  "
      ]
     },
     "execution_count": 4,
     "metadata": {},
     "output_type": "execute_result"
    }
   ],
   "source": [
    "# Read the relevent dataset \n",
    "dfnbaall = pd.read_csv('nba_final_dataset.csv')\n",
    "dfnbaall.head(10)"
   ]
  },
  {
   "cell_type": "code",
   "execution_count": 5,
   "metadata": {},
   "outputs": [],
   "source": [
    "# Drop the unnamed column\n",
    "dfnbaall = dfnbaall.drop(columns=['Unnamed: 0'])"
   ]
  },
  {
   "cell_type": "markdown",
   "metadata": {},
   "source": [
    "Next, we'll create some functions that we'll be using."
   ]
  },
  {
   "cell_type": "code",
   "execution_count": 7,
   "metadata": {},
   "outputs": [],
   "source": [
    "def permutation_sample(data1, data2):\n",
    "    \"\"\"Generate a permutation sample from two data sets.\"\"\"\n",
    "\n",
    "    # Concatenate the data sets: data\n",
    "    data = np.concatenate((data1, data2))\n",
    "\n",
    "    # Permute the concatenated array: permuted_data\n",
    "    permuted_data = np.random.permutation(data)\n",
    "\n",
    "    # Split the permuted array into two: perm_sample_1, perm_sample_2\n",
    "    perm_sample_1 = permuted_data[:len(data1)]\n",
    "    perm_sample_2 = permuted_data[len(data1):]\n",
    "\n",
    "    return perm_sample_1, perm_sample_2\n",
    "\n",
    "\n",
    "\n",
    "def draw_perm_reps(data_1, data_2, func, size=1):\n",
    "    \"\"\"Generate multiple permutation replicates.\"\"\"\n",
    "\n",
    "    # Initialize array of replicates: perm_replicates\n",
    "    perm_replicates = np.empty(size)\n",
    "\n",
    "    for i in range(size):\n",
    "        # Generate permutation sample\n",
    "        perm_sample_1, perm_sample_2 = permutation_sample(data_1, data_2)\n",
    "\n",
    "        # Compute the test statistic\n",
    "        perm_replicates[i] = func(perm_sample_1, perm_sample_2)\n",
    "\n",
    "    return perm_replicates"
   ]
  },
  {
   "cell_type": "code",
   "execution_count": 8,
   "metadata": {},
   "outputs": [],
   "source": [
    "# Create a function to determine the difference of means between two arrays\n",
    "def diff_of_means(data_1, data_2):\n",
    "    \"\"\"Difference in means of two arrays.\"\"\"\n",
    "    # The difference of means of data_1, data_2: diff\n",
    "    diff = np.mean(data_1) - np.mean(data_2)\n",
    "    return diff"
   ]
  },
  {
   "cell_type": "code",
   "execution_count": 9,
   "metadata": {},
   "outputs": [],
   "source": [
    "# Define Pearson correlation coefficient\n",
    "def pearson_r(x, y):\n",
    "    \"\"\"Compute Pearson correlation coefficient between two arrays.\"\"\"\n",
    "    # Compute correlation matrix: corr_mat\n",
    "    corr_mat = np.corrcoef(x, y)\n",
    "\n",
    "    # Return entry [0,1]\n",
    "    return corr_mat[0, 1]"
   ]
  },
  {
   "cell_type": "markdown",
   "metadata": {},
   "source": [
    "In our data story, we found that two 3-point related statistics have increased fairly steadily over close to the last 15 years - 3PAr and 3P%. So, we would like to determine if there is a correlation between higher values in these 3-point statistics and higher salaries. For both, we'll perform a two sample bootsrtap test two different ways. First, we'll divide groups by 3PAr and 3P%, respectively and compute the mean salary difference between those above and below the average 3Par and 3P%. Second, we'll divide players by average salary and compute the difference in mean 3PAr and 3P%. For all of these tests, our null hypothesis will be that there is no difference between the two groups of players,  regardless of how their divided. Our alternative hypthesis will be that there is a difference. "
   ]
  },
  {
   "cell_type": "markdown",
   "metadata": {},
   "source": [
    "### Salary difference of means above/below average 3PAr"
   ]
  },
  {
   "cell_type": "markdown",
   "metadata": {},
   "source": [
    "Null hypothesis: There is no difference in average salary for players above and below the average 3PAr level.\n",
    "\n",
    "Alternate hypothesis: There is a difference in average salary for players above and below the average 3PAr level."
   ]
  },
  {
   "cell_type": "code",
   "execution_count": 10,
   "metadata": {},
   "outputs": [
    {
     "name": "stdout",
     "output_type": "stream",
     "text": [
      "<class 'pandas.core.frame.DataFrame'>\n",
      "Int64Index: 4375 entries, 9 to 9616\n",
      "Data columns (total 2 columns):\n",
      "3PAr      4375 non-null float64\n",
      "Salary    4375 non-null int64\n",
      "dtypes: float64(1), int64(1)\n",
      "memory usage: 102.5 KB\n"
     ]
    }
   ],
   "source": [
    "# Salary and 3PAr data of all players above the 3PAr average\n",
    "abvav3sal = dfnbaall.loc[dfnbaall['3PAr'] > np.mean(dfnbaall['3PAr']),  ['3PAr', 'Salary']]\n",
    "abvav3sal.info()"
   ]
  },
  {
   "cell_type": "code",
   "execution_count": 11,
   "metadata": {},
   "outputs": [
    {
     "name": "stdout",
     "output_type": "stream",
     "text": [
      "<class 'pandas.core.frame.DataFrame'>\n",
      "Int64Index: 5246 entries, 0 to 9620\n",
      "Data columns (total 2 columns):\n",
      "3PAr      5246 non-null float64\n",
      "Salary    5246 non-null int64\n",
      "dtypes: float64(1), int64(1)\n",
      "memory usage: 123.0 KB\n"
     ]
    }
   ],
   "source": [
    "# Salary and 3PAr data of all players below the 3PAr average\n",
    "belav3sal = dfnbaall.loc[dfnbaall['3PAr'] < np.mean(dfnbaall['3PAr']),  ['3PAr', 'Salary']]\n",
    "belav3sal.info()"
   ]
  },
  {
   "cell_type": "code",
   "execution_count": 12,
   "metadata": {},
   "outputs": [],
   "source": [
    "# Salary data for all players above and below average 3PAr\n",
    "abvav3salval = abvav3sal['Salary']\n",
    "belav3salval = belav3sal['Salary']"
   ]
  },
  {
   "cell_type": "code",
   "execution_count": 13,
   "metadata": {},
   "outputs": [
    {
     "data": {
      "text/plain": [
       "368052.3836355321"
      ]
     },
     "execution_count": 13,
     "metadata": {},
     "output_type": "execute_result"
    }
   ],
   "source": [
    "# Difference of means between the salaries\n",
    "diff_means3sal = diff_of_means(abvav3salval, belav3salval)\n",
    "diff_means3sal"
   ]
  },
  {
   "cell_type": "code",
   "execution_count": 14,
   "metadata": {},
   "outputs": [],
   "source": [
    "# Two sample bootstrap of 10000 replicates, applying the difference of means function\n",
    "perm_reps3sal = draw_perm_reps(abvav3salval, belav3salval, diff_of_means, 10000)"
   ]
  },
  {
   "cell_type": "code",
   "execution_count": 15,
   "metadata": {},
   "outputs": [
    {
     "data": {
      "text/plain": [
       "<matplotlib.axes._subplots.AxesSubplot at 0x20a875371d0>"
      ]
     },
     "execution_count": 15,
     "metadata": {},
     "output_type": "execute_result"
    },
    {
     "data": {
      "image/png": "[encoded data removed]",
      "text/plain": [
       "<Figure size 432x288 with 1 Axes>"
      ]
     },
     "metadata": {
      "needs_background": "light"
     },
     "output_type": "display_data"
    }
   ],
   "source": [
    "# Plot of the bootstrap distribution\n",
    "sns.distplot(perm_reps3sal)"
   ]
  },
  {
   "cell_type": "code",
   "execution_count": 16,
   "metadata": {},
   "outputs": [
    {
     "name": "stdout",
     "output_type": "stream",
     "text": [
      "The mean salary difference between players who are above and below the average 3PAr is 368052.3836355321\n",
      "The p-value =  0.0\n"
     ]
    }
   ],
   "source": [
    "# Compute p-value: p\n",
    "p_3salmean = np.sum(perm_reps3sal >= diff_means3sal) / len(perm_reps3sal)\n",
    "print('The mean salary difference between players who are above and below the average 3PAr is', \n",
    "      str(diff_means3sal))\n",
    "print('The p-value = ', p_3salmean)"
   ]
  },
  {
   "cell_type": "markdown",
   "metadata": {},
   "source": [
    "Our p-value is well below both the 0.05 and 0.01 threshold, so we can reject our null hypothesis and, thus, conclude that there is a significant difference in salary for players above and below the averge 3PAr value. "
   ]
  },
  {
   "cell_type": "markdown",
   "metadata": {},
   "source": [
    "### 3PAr difference of means above/below average salary"
   ]
  },
  {
   "cell_type": "markdown",
   "metadata": {},
   "source": [
    "We can also compute the difference of means in 3PAr between players above and below the average salary to see if we get a similar result for the p-value."
   ]
  },
  {
   "cell_type": "markdown",
   "metadata": {},
   "source": [
    "Null hypothesis: There is no difference in average 3PAr for players above and below the average salary.\n",
    "\n",
    "Alternate hypothesis: There is a difference in average 3PAr for players above and below the average salary."
   ]
  },
  {
   "cell_type": "code",
   "execution_count": 18,
   "metadata": {},
   "outputs": [
    {
     "name": "stdout",
     "output_type": "stream",
     "text": [
      "<class 'pandas.core.frame.DataFrame'>\n",
      "Int64Index: 3074 entries, 17 to 9612\n",
      "Data columns (total 2 columns):\n",
      "3PAr      3074 non-null float64\n",
      "Salary    3074 non-null int64\n",
      "dtypes: float64(1), int64(1)\n",
      "memory usage: 72.0 KB\n"
     ]
    }
   ],
   "source": [
    "# Salary and 3PAr values for players above the average salary\n",
    "abvav3 = dfnbaall.loc[dfnbaall['Salary'] > np.mean(dfnbaall['Salary']),  ['3PAr', 'Salary']]\n",
    "abvav3.info()"
   ]
  },
  {
   "cell_type": "code",
   "execution_count": 19,
   "metadata": {},
   "outputs": [
    {
     "name": "stdout",
     "output_type": "stream",
     "text": [
      "<class 'pandas.core.frame.DataFrame'>\n",
      "Int64Index: 6547 entries, 0 to 9620\n",
      "Data columns (total 2 columns):\n",
      "3PAr      6547 non-null float64\n",
      "Salary    6547 non-null int64\n",
      "dtypes: float64(1), int64(1)\n",
      "memory usage: 153.4 KB\n"
     ]
    }
   ],
   "source": [
    "# Salary and 3PAr values for players below the average salary\n",
    "belav3 = dfnbaall.loc[dfnbaall['Salary'] < np.mean(dfnbaall['Salary']),  ['3PAr', 'Salary']]\n",
    "belav3.info()"
   ]
  },
  {
   "cell_type": "code",
   "execution_count": 20,
   "metadata": {},
   "outputs": [],
   "source": [
    "# 3PAr values\n",
    "abvav3val = abvav3['3PAr']\n",
    "belav3val = belav3['3PAr']"
   ]
  },
  {
   "cell_type": "code",
   "execution_count": 21,
   "metadata": {},
   "outputs": [
    {
     "data": {
      "text/plain": [
       "0.0007470159466508031"
      ]
     },
     "execution_count": 21,
     "metadata": {},
     "output_type": "execute_result"
    }
   ],
   "source": [
    "# Difference of means between 3PAr values of both groups\n",
    "diff_means3 = diff_of_means(abvav3val, belav3val)\n",
    "diff_means3"
   ]
  },
  {
   "cell_type": "code",
   "execution_count": 22,
   "metadata": {},
   "outputs": [],
   "source": [
    "# Two sample bootstrap of 10000 replicates, applying the difference of means function\n",
    "perm_reps3 = draw_perm_reps(abvav3val, belav3val, diff_of_means, 10000)"
   ]
  },
  {
   "cell_type": "code",
   "execution_count": 23,
   "metadata": {},
   "outputs": [
    {
     "data": {
      "text/plain": [
       "<matplotlib.axes._subplots.AxesSubplot at 0x20a8804fe48>"
      ]
     },
     "execution_count": 23,
     "metadata": {},
     "output_type": "execute_result"
    },
    {
     "data": {
      "image/png": "[encoded data removed]",
      "text/plain": [
       "<Figure size 432x288 with 1 Axes>"
      ]
     },
     "metadata": {
      "needs_background": "light"
     },
     "output_type": "display_data"
    }
   ],
   "source": [
    "# Plot the distribution\n",
    "sns.distplot(perm_reps3)"
   ]
  },
  {
   "cell_type": "code",
   "execution_count": 24,
   "metadata": {},
   "outputs": [
    {
     "name": "stdout",
     "output_type": "stream",
     "text": [
      "The mean 3PAr difference between players who are above and below the average salary is 0.0007470159466508031\n",
      "The p-value =  0.4261\n"
     ]
    }
   ],
   "source": [
    "# Compute p-value: p\n",
    "p_3mean = np.sum(perm_reps3 >= diff_means3) / len(perm_reps3)\n",
    "print('The mean 3PAr difference between players who are above and below the average salary is', \n",
    "      str(diff_means3))\n",
    "print('The p-value = ', p_3mean)"
   ]
  },
  {
   "cell_type": "markdown",
   "metadata": {},
   "source": [
    "The p-value is well above the 0.05 and 0.01 threshold, so we can't reject our null hypothesis and have to accept that there is no significant 3PAr difference between players above and below the average salary level. "
   ]
  },
  {
   "cell_type": "markdown",
   "metadata": {},
   "source": [
    "As mentioned above, we'll be doing calculations for 3P% similar to what we did for 3PAr."
   ]
  },
  {
   "cell_type": "code",
   "execution_count": null,
   "metadata": {},
   "outputs": [],
   "source": []
  },
  {
   "cell_type": "code",
   "execution_count": null,
   "metadata": {},
   "outputs": [],
   "source": []
  },
  {
   "cell_type": "markdown",
   "metadata": {},
   "source": [
    "Our data story also suggested that usage percentage is higher among older players. Older players, having been in the league longer, also get paid a higher average salary than younger players, implying that usage rate should be higher among players who get paid higher salaries."
   ]
  },
  {
   "cell_type": "code",
   "execution_count": null,
   "metadata": {},
   "outputs": [],
   "source": []
  },
  {
   "cell_type": "markdown",
   "metadata": {},
   "source": [
    "### ANOVA test of salary versus position"
   ]
  },
  {
   "cell_type": "markdown",
   "metadata": {},
   "source": [
    "We're also interested in determining whether there is a significant difference in salary based on position. A graphical anaylsis in the data story had indicated that point guards appeared to be paid the least and had the lowest amount of variation, while centers and power forwards had the largest variation. In order to compare all 5 positions together, we'll be conducting an ANOVA analysis. "
   ]
  },
  {
   "cell_type": "markdown",
   "metadata": {},
   "source": [
    "For this analysis, our null hypothesis will be that there is no difference in salary between all 5 positions. Our alternative hypothesis is that there is as signficant difference in salary between positions. "
   ]
  },
  {
   "cell_type": "code",
   "execution_count": 6,
   "metadata": {},
   "outputs": [],
   "source": [
    "# Import the necessary libraries\n",
    "import researchpy as rp\n",
    "import statsmodels.api as sm\n",
    "from statsmodels.formula.api import ols"
   ]
  },
  {
   "cell_type": "code",
   "execution_count": 7,
   "metadata": {},
   "outputs": [
    {
     "name": "stdout",
     "output_type": "stream",
     "text": [
      "\n",
      "\n"
     ]
    },
    {
     "data": {
      "text/html": [
       "<div>\n",
       "<style scoped>\n",
       "    .dataframe tbody tr th:only-of-type {\n",
       "        vertical-align: middle;\n",
       "    }\n",
       "\n",
       "    .dataframe tbody tr th {\n",
       "        vertical-align: top;\n",
       "    }\n",
       "\n",
       "    .dataframe thead th {\n",
       "        text-align: right;\n",
       "    }\n",
       "</style>\n",
       "<table border=\"1\" class=\"dataframe\">\n",
       "  <thead>\n",
       "    <tr style=\"text-align: right;\">\n",
       "      <th></th>\n",
       "      <th>Variable</th>\n",
       "      <th>N</th>\n",
       "      <th>Mean</th>\n",
       "      <th>SD</th>\n",
       "      <th>SE</th>\n",
       "      <th>95% Conf.</th>\n",
       "      <th>Interval</th>\n",
       "    </tr>\n",
       "  </thead>\n",
       "  <tbody>\n",
       "    <tr>\n",
       "      <th>0</th>\n",
       "      <td>Salary</td>\n",
       "      <td>9621.0</td>\n",
       "      <td>3.535028e+06</td>\n",
       "      <td>4.226466e+06</td>\n",
       "      <td>43089.081696</td>\n",
       "      <td>3.450564e+06</td>\n",
       "      <td>3.619491e+06</td>\n",
       "    </tr>\n",
       "  </tbody>\n",
       "</table>\n",
       "</div>"
      ],
      "text/plain": [
       "  Variable       N          Mean            SD            SE     95% Conf.  \\\n",
       "0   Salary  9621.0  3.535028e+06  4.226466e+06  43089.081696  3.450564e+06   \n",
       "\n",
       "       Interval  \n",
       "0  3.619491e+06  "
      ]
     },
     "execution_count": 7,
     "metadata": {},
     "output_type": "execute_result"
    }
   ],
   "source": [
    "# We'll begin by getting some basic stats about the salary column\n",
    "rp.summary_cont(dfnbaall['Salary'])"
   ]
  },
  {
   "cell_type": "code",
   "execution_count": 8,
   "metadata": {},
   "outputs": [
    {
     "name": "stdout",
     "output_type": "stream",
     "text": [
      "\n",
      "\n"
     ]
    },
    {
     "data": {
      "text/html": [
       "<div>\n",
       "<style scoped>\n",
       "    .dataframe tbody tr th:only-of-type {\n",
       "        vertical-align: middle;\n",
       "    }\n",
       "\n",
       "    .dataframe tbody tr th {\n",
       "        vertical-align: top;\n",
       "    }\n",
       "\n",
       "    .dataframe thead th {\n",
       "        text-align: right;\n",
       "    }\n",
       "</style>\n",
       "<table border=\"1\" class=\"dataframe\">\n",
       "  <thead>\n",
       "    <tr style=\"text-align: right;\">\n",
       "      <th></th>\n",
       "      <th>N</th>\n",
       "      <th>Mean</th>\n",
       "      <th>SD</th>\n",
       "      <th>SE</th>\n",
       "      <th>95% Conf.</th>\n",
       "      <th>Interval</th>\n",
       "    </tr>\n",
       "    <tr>\n",
       "      <th>Pos</th>\n",
       "      <th></th>\n",
       "      <th></th>\n",
       "      <th></th>\n",
       "      <th></th>\n",
       "      <th></th>\n",
       "      <th></th>\n",
       "    </tr>\n",
       "  </thead>\n",
       "  <tbody>\n",
       "    <tr>\n",
       "      <th>C</th>\n",
       "      <td>1979</td>\n",
       "      <td>3.796417e+06</td>\n",
       "      <td>4.288673e+06</td>\n",
       "      <td>96405.112966</td>\n",
       "      <td>3.607416e+06</td>\n",
       "      <td>3.985419e+06</td>\n",
       "    </tr>\n",
       "    <tr>\n",
       "      <th>PF</th>\n",
       "      <td>2030</td>\n",
       "      <td>3.869948e+06</td>\n",
       "      <td>4.513690e+06</td>\n",
       "      <td>100180.615818</td>\n",
       "      <td>3.673546e+06</td>\n",
       "      <td>4.066351e+06</td>\n",
       "    </tr>\n",
       "    <tr>\n",
       "      <th>PG</th>\n",
       "      <td>1836</td>\n",
       "      <td>3.100985e+06</td>\n",
       "      <td>3.916515e+06</td>\n",
       "      <td>91403.639404</td>\n",
       "      <td>2.921785e+06</td>\n",
       "      <td>3.280185e+06</td>\n",
       "    </tr>\n",
       "    <tr>\n",
       "      <th>SF</th>\n",
       "      <td>1864</td>\n",
       "      <td>3.451256e+06</td>\n",
       "      <td>4.121353e+06</td>\n",
       "      <td>95458.990769</td>\n",
       "      <td>3.264106e+06</td>\n",
       "      <td>3.638406e+06</td>\n",
       "    </tr>\n",
       "    <tr>\n",
       "      <th>SG</th>\n",
       "      <td>1912</td>\n",
       "      <td>3.407347e+06</td>\n",
       "      <td>4.191853e+06</td>\n",
       "      <td>95865.439075</td>\n",
       "      <td>3.219402e+06</td>\n",
       "      <td>3.595292e+06</td>\n",
       "    </tr>\n",
       "  </tbody>\n",
       "</table>\n",
       "</div>"
      ],
      "text/plain": [
       "        N          Mean            SD             SE     95% Conf.  \\\n",
       "Pos                                                                  \n",
       "C    1979  3.796417e+06  4.288673e+06   96405.112966  3.607416e+06   \n",
       "PF   2030  3.869948e+06  4.513690e+06  100180.615818  3.673546e+06   \n",
       "PG   1836  3.100985e+06  3.916515e+06   91403.639404  2.921785e+06   \n",
       "SF   1864  3.451256e+06  4.121353e+06   95458.990769  3.264106e+06   \n",
       "SG   1912  3.407347e+06  4.191853e+06   95865.439075  3.219402e+06   \n",
       "\n",
       "         Interval  \n",
       "Pos                \n",
       "C    3.985419e+06  \n",
       "PF   4.066351e+06  \n",
       "PG   3.280185e+06  \n",
       "SF   3.638406e+06  \n",
       "SG   3.595292e+06  "
      ]
     },
     "execution_count": 8,
     "metadata": {},
     "output_type": "execute_result"
    }
   ],
   "source": [
    "# Next, we'll get details about each position\n",
    "rp.summary_cont(dfnbaall['Salary'].groupby(dfnbaall['Pos']))"
   ]
  },
  {
   "cell_type": "markdown",
   "metadata": {},
   "source": [
    "Power forwards have the highest mean salary and standard deviation, while point guards have the smallest values in both of those categories."
   ]
  },
  {
   "cell_type": "code",
   "execution_count": 9,
   "metadata": {},
   "outputs": [
    {
     "data": {
      "text/plain": [
       "F_onewayResult(statistic=10.581413749062929, pvalue=1.4896111851091458e-08)"
      ]
     },
     "execution_count": 9,
     "metadata": {},
     "output_type": "execute_result"
    }
   ],
   "source": [
    "# Calculation of the F-statistic and p-value\n",
    "stats.f_oneway(dfnbaall['Salary'][dfnbaall['Pos'] == 'PG'], \n",
    "             dfnbaall['Salary'][dfnbaall['Pos'] == 'SG'],\n",
    "             dfnbaall['Salary'][dfnbaall['Pos'] == 'SF'], \n",
    "              dfnbaall['Salary'][dfnbaall['Pos'] == 'PF'], \n",
    "              dfnbaall['Salary'][dfnbaall['Pos'] == 'C'])"
   ]
  },
  {
   "cell_type": "markdown",
   "metadata": {},
   "source": [
    "The F-statistic and p-value calcuation suggests that positon does seem to have some affect on salary. However, we'll need to do a more detailed analysis to learn more. "
   ]
  },
  {
   "cell_type": "code",
   "execution_count": 10,
   "metadata": {},
   "outputs": [
    {
     "data": {
      "text/html": [
       "<table class=\"simpletable\">\n",
       "<caption>OLS Regression Results</caption>\n",
       "<tr>\n",
       "  <th>Dep. Variable:</th>         <td>Salary</td>      <th>  R-squared:         </th>  <td>   0.004</td>  \n",
       "</tr>\n",
       "<tr>\n",
       "  <th>Model:</th>                   <td>OLS</td>       <th>  Adj. R-squared:    </th>  <td>   0.004</td>  \n",
       "</tr>\n",
       "<tr>\n",
       "  <th>Method:</th>             <td>Least Squares</td>  <th>  F-statistic:       </th>  <td>   10.58</td>  \n",
       "</tr>\n",
       "<tr>\n",
       "  <th>Date:</th>             <td>Thu, 14 Nov 2019</td> <th>  Prob (F-statistic):</th>  <td>1.49e-08</td>  \n",
       "</tr>\n",
       "<tr>\n",
       "  <th>Time:</th>                 <td>02:01:02</td>     <th>  Log-Likelihood:    </th> <td>-1.6042e+05</td>\n",
       "</tr>\n",
       "<tr>\n",
       "  <th>No. Observations:</th>      <td>  9621</td>      <th>  AIC:               </th>  <td>3.208e+05</td> \n",
       "</tr>\n",
       "<tr>\n",
       "  <th>Df Residuals:</th>          <td>  9616</td>      <th>  BIC:               </th>  <td>3.209e+05</td> \n",
       "</tr>\n",
       "<tr>\n",
       "  <th>Df Model:</th>              <td>     4</td>      <th>                     </th>      <td> </td>     \n",
       "</tr>\n",
       "<tr>\n",
       "  <th>Covariance Type:</th>      <td>nonrobust</td>    <th>                     </th>      <td> </td>     \n",
       "</tr>\n",
       "</table>\n",
       "<table class=\"simpletable\">\n",
       "<tr>\n",
       "        <td></td>          <th>coef</th>     <th>std err</th>      <th>t</th>      <th>P>|t|</th>  <th>[0.025</th>    <th>0.975]</th>  \n",
       "</tr>\n",
       "<tr>\n",
       "  <th>Intercept</th>    <td> 3.796e+06</td> <td> 9.48e+04</td> <td>   40.039</td> <td> 0.000</td> <td> 3.61e+06</td> <td> 3.98e+06</td>\n",
       "</tr>\n",
       "<tr>\n",
       "  <th>C(Pos)[T.PF]</th> <td> 7.353e+04</td> <td> 1.33e+05</td> <td>    0.552</td> <td> 0.581</td> <td>-1.88e+05</td> <td> 3.35e+05</td>\n",
       "</tr>\n",
       "<tr>\n",
       "  <th>C(Pos)[T.PG]</th> <td>-6.954e+05</td> <td> 1.37e+05</td> <td>   -5.088</td> <td> 0.000</td> <td>-9.63e+05</td> <td>-4.28e+05</td>\n",
       "</tr>\n",
       "<tr>\n",
       "  <th>C(Pos)[T.SF]</th> <td>-3.452e+05</td> <td> 1.36e+05</td> <td>   -2.535</td> <td> 0.011</td> <td>-6.12e+05</td> <td>-7.83e+04</td>\n",
       "</tr>\n",
       "<tr>\n",
       "  <th>C(Pos)[T.SG]</th> <td>-3.891e+05</td> <td> 1.35e+05</td> <td>   -2.876</td> <td> 0.004</td> <td>-6.54e+05</td> <td>-1.24e+05</td>\n",
       "</tr>\n",
       "</table>\n",
       "<table class=\"simpletable\">\n",
       "<tr>\n",
       "  <th>Omnibus:</th>       <td>3984.578</td> <th>  Durbin-Watson:     </th> <td>   0.538</td> \n",
       "</tr>\n",
       "<tr>\n",
       "  <th>Prob(Omnibus):</th>  <td> 0.000</td>  <th>  Jarque-Bera (JB):  </th> <td>16009.183</td>\n",
       "</tr>\n",
       "<tr>\n",
       "  <th>Skew:</th>           <td> 2.076</td>  <th>  Prob(JB):          </th> <td>    0.00</td> \n",
       "</tr>\n",
       "<tr>\n",
       "  <th>Kurtosis:</th>       <td> 7.765</td>  <th>  Cond. No.          </th> <td>    5.76</td> \n",
       "</tr>\n",
       "</table><br/><br/>Warnings:<br/>[1] Standard Errors assume that the covariance matrix of the errors is correctly specified."
      ],
      "text/plain": [
       "<class 'statsmodels.iolib.summary.Summary'>\n",
       "\"\"\"\n",
       "                            OLS Regression Results                            \n",
       "==============================================================================\n",
       "Dep. Variable:                 Salary   R-squared:                       0.004\n",
       "Model:                            OLS   Adj. R-squared:                  0.004\n",
       "Method:                 Least Squares   F-statistic:                     10.58\n",
       "Date:                Thu, 14 Nov 2019   Prob (F-statistic):           1.49e-08\n",
       "Time:                        02:01:02   Log-Likelihood:            -1.6042e+05\n",
       "No. Observations:                9621   AIC:                         3.208e+05\n",
       "Df Residuals:                    9616   BIC:                         3.209e+05\n",
       "Df Model:                           4                                         \n",
       "Covariance Type:            nonrobust                                         \n",
       "================================================================================\n",
       "                   coef    std err          t      P>|t|      [0.025      0.975]\n",
       "--------------------------------------------------------------------------------\n",
       "Intercept     3.796e+06   9.48e+04     40.039      0.000    3.61e+06    3.98e+06\n",
       "C(Pos)[T.PF]  7.353e+04   1.33e+05      0.552      0.581   -1.88e+05    3.35e+05\n",
       "C(Pos)[T.PG] -6.954e+05   1.37e+05     -5.088      0.000   -9.63e+05   -4.28e+05\n",
       "C(Pos)[T.SF] -3.452e+05   1.36e+05     -2.535      0.011   -6.12e+05   -7.83e+04\n",
       "C(Pos)[T.SG] -3.891e+05   1.35e+05     -2.876      0.004   -6.54e+05   -1.24e+05\n",
       "==============================================================================\n",
       "Omnibus:                     3984.578   Durbin-Watson:                   0.538\n",
       "Prob(Omnibus):                  0.000   Jarque-Bera (JB):            16009.183\n",
       "Skew:                           2.076   Prob(JB):                         0.00\n",
       "Kurtosis:                       7.765   Cond. No.                         5.76\n",
       "==============================================================================\n",
       "\n",
       "Warnings:\n",
       "[1] Standard Errors assume that the covariance matrix of the errors is correctly specified.\n",
       "\"\"\""
      ]
     },
     "execution_count": 10,
     "metadata": {},
     "output_type": "execute_result"
    }
   ],
   "source": [
    "# A regression for the 5 positons\n",
    "results = ols('Salary ~ C(Pos)', data=dfnbaall).fit()\n",
    "results.summary()"
   ]
  },
  {
   "cell_type": "markdown",
   "metadata": {},
   "source": [
    "The F-stat and p-value indicate that there is a significant difference between the mean salaries of each of these five positions. However, it also indicates that there is no signifcant difference between the salaries of centers and power forwards."
   ]
  },
  {
   "cell_type": "code",
   "execution_count": 12,
   "metadata": {},
   "outputs": [
    {
     "data": {
      "text/html": [
       "<div>\n",
       "<style scoped>\n",
       "    .dataframe tbody tr th:only-of-type {\n",
       "        vertical-align: middle;\n",
       "    }\n",
       "\n",
       "    .dataframe tbody tr th {\n",
       "        vertical-align: top;\n",
       "    }\n",
       "\n",
       "    .dataframe thead th {\n",
       "        text-align: right;\n",
       "    }\n",
       "</style>\n",
       "<table border=\"1\" class=\"dataframe\">\n",
       "  <thead>\n",
       "    <tr style=\"text-align: right;\">\n",
       "      <th></th>\n",
       "      <th>sum_sq</th>\n",
       "      <th>df</th>\n",
       "      <th>F</th>\n",
       "      <th>PR(&gt;F)</th>\n",
       "    </tr>\n",
       "  </thead>\n",
       "  <tbody>\n",
       "    <tr>\n",
       "      <th>C(Pos)</th>\n",
       "      <td>7.530635e+14</td>\n",
       "      <td>4.0</td>\n",
       "      <td>10.581414</td>\n",
       "      <td>1.489611e-08</td>\n",
       "    </tr>\n",
       "    <tr>\n",
       "      <th>Residual</th>\n",
       "      <td>1.710891e+17</td>\n",
       "      <td>9616.0</td>\n",
       "      <td>NaN</td>\n",
       "      <td>NaN</td>\n",
       "    </tr>\n",
       "  </tbody>\n",
       "</table>\n",
       "</div>"
      ],
      "text/plain": [
       "                sum_sq      df          F        PR(>F)\n",
       "C(Pos)    7.530635e+14     4.0  10.581414  1.489611e-08\n",
       "Residual  1.710891e+17  9616.0        NaN           NaN"
      ]
     },
     "execution_count": 12,
     "metadata": {},
     "output_type": "execute_result"
    }
   ],
   "source": [
    "# An ANOVA table\n",
    "aov_table = sm.stats.anova_lm(results, typ=2)\n",
    "aov_table"
   ]
  },
  {
   "cell_type": "markdown",
   "metadata": {},
   "source": [
    "For more information, we've created the above ANOVA table. The sum of squares gives the amount of variance in the data. In this case, there is a great amount of variance. Paired with the extremely low p-value, the ANOVA test indoicates that we should reject our null hypothesis. We can conclude that there is a significant difference in salary between positions. It's likely the case that position does influence salary (in addition to other variables, as we've seen). Centers and power forwards are paid more than other positions, while point guards are paid the least, by a wide margin. As we stated in our data story, it's not immediately clear as to why point guards are paid so much less, and our dataset doesn't have the necessary data for us to develop a testable hypothesis. The main takeaway for players is that being center or power forward is, on average, more lucrative than being a point guard and that's one's position does influence one's salary. "
   ]
  },
  {
   "cell_type": "markdown",
   "metadata": {},
   "source": [
    "### PER analysis"
   ]
  },
  {
   "cell_type": "markdown",
   "metadata": {},
   "source": [
    "One curious statistic is PER or player efficiency rating. It's calculated using a fairly elaborate equation that takes into account at least a dozen other player stats. It's often cited as a valuable stat in determining the 'best' players in the league, partly because it incorporates so many different variables, both offensive and defensive (though it favors offense over defense). However, our data story graphs seemed to indicate that there was very little difference in PER between players of all different salary ranges. In fact, many players with high salaries often had PER values similar to players near the bottom of the salary scale. So, a question arises as to why such a valuable stat seems to have almost no correlation with salary. "
   ]
  },
  {
   "cell_type": "markdown",
   "metadata": {},
   "source": [
    " We'll start by looking at the distribution of PER data."
   ]
  },
  {
   "cell_type": "code",
   "execution_count": 18,
   "metadata": {},
   "outputs": [
    {
     "data": {
      "text/plain": [
       "(-20, 40)"
      ]
     },
     "execution_count": 18,
     "metadata": {},
     "output_type": "execute_result"
    },
    {
     "data": {
      "image/png": "[encoded data removed]",
      "text/plain": [
       "<Figure size 432x288 with 1 Axes>"
      ]
     },
     "metadata": {
      "needs_background": "light"
     },
     "output_type": "display_data"
    }
   ],
   "source": [
    "# Distribution of PER\n",
    "sns.distplot(dfnbaall['PER'], bins=200)\n",
    "plt.xlim(-20, 40)"
   ]
  },
  {
   "cell_type": "markdown",
   "metadata": {},
   "source": [
    "It appears that vast majority of PER values fall just under 15. This may be due to the league average being adjusted to 15 every season as a way to better allow comparisons between seasons. Thus, most players fall under the average. However, let's do a bootstrap test to confirm that PER isn't correlated well with salary, as our data story seemed to suggest."
   ]
  },
  {
   "cell_type": "code",
   "execution_count": null,
   "metadata": {},
   "outputs": [],
   "source": []
  }
 ],
 "metadata": {
  "kernelspec": {
   "display_name": "Python 3",
   "language": "python",
   "name": "python3"
  },
  "language_info": {
   "codemirror_mode": {
    "name": "ipython",
    "version": 3
   },
   "file_extension": ".py",
   "mimetype": "text/x-python",
   "name": "python",
   "nbconvert_exporter": "python",
   "pygments_lexer": "ipython3",
   "version": "3.7.3"
  }
 },
 "nbformat": 4,
 "nbformat_minor": 2
}
