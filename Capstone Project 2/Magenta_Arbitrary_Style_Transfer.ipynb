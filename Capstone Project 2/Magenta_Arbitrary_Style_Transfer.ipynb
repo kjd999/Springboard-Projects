{
  "nbformat": 4,
  "nbformat_minor": 0,
  "metadata": {
    "colab": {
      "name": "Magenta Arbitrary Style Transfer.ipynb",
      "provenance": []
    },
    "kernelspec": {
      "name": "python3",
      "display_name": "Python 3"
    },
    "accelerator": "GPU"
  },
  "cells": [
    {
      "cell_type": "markdown",
      "metadata": {
        "id": "w7xBfjwHZQen",
        "colab_type": "text"
      },
      "source": [
        "# Magenta Arbitrary Style Transfer in Google Colab"
      ]
    },
    {
      "cell_type": "markdown",
      "metadata": {
        "id": "g52Zn8E1afFZ",
        "colab_type": "text"
      },
      "source": [
        "This notebook details how to run the Magenta arbitrary style transfer model on Google Colab. It allows for quick creation of style transfer stylized images for any content and style images of your choosing. It's best to run this on GPU/TPU, and not CPU, for faster image creation. \n",
        "\n",
        "For details not mentioned here, consult Magenta's Github repository: https://github.com/tensorflow/magenta/tree/master/magenta/models/arbitrary_image_stylization"
      ]
    },
    {
      "cell_type": "markdown",
      "metadata": {
        "id": "8xOMKlduWW8h",
        "colab_type": "text"
      },
      "source": [
        "Begin by installing the Magenta environment. After installation, you'll be asked to restart the runtime"
      ]
    },
    {
      "cell_type": "code",
      "metadata": {
        "id": "zm2XwqjuWcvQ",
        "colab_type": "code",
        "colab": {}
      },
      "source": [
        "pip install magenta"
      ],
      "execution_count": 0,
      "outputs": []
    },
    {
      "cell_type": "markdown",
      "metadata": {
        "id": "yTZVkZB2ZuC3",
        "colab_type": "text"
      },
      "source": [
        "Begin by mounting Google Drive to allow for file upload. "
      ]
    },
    {
      "cell_type": "code",
      "metadata": {
        "id": "gorvXskArDUZ",
        "colab_type": "code",
        "colab": {}
      },
      "source": [
        "from google.colab import drive\n",
        "drive.mount('/content/drive')"
      ],
      "execution_count": 0,
      "outputs": []
    },
    {
      "cell_type": "markdown",
      "metadata": {
        "id": "AKscsaDIaGIE",
        "colab_type": "text"
      },
      "source": [
        "This Magenta style transfer model still runs on scipy 1.1 and below. So, until Magenta updates to a newer version of scipy, it's necessary to download 1.1 for the model to run without creating a deprecation error. "
      ]
    },
    {
      "cell_type": "code",
      "metadata": {
        "id": "uRJE3E7A48BE",
        "colab_type": "code",
        "colab": {}
      },
      "source": [
        "pip install scipy==1.1.0"
      ],
      "execution_count": 0,
      "outputs": []
    },
    {
      "cell_type": "markdown",
      "metadata": {
        "id": "eAieYD5ea_fQ",
        "colab_type": "text"
      },
      "source": [
        "The code below details the commands for the Magenta model (checkpoint), the content and style images, as well as the output folder (where the stylized images are saved). To download the pretrained model, use the GitHub link mentioned above.  \n",
        "\n",
        "As implied above, the easist appraoch is to have all of the necessary folders in Google Drive and to just apply the appropriate path to each folder. \n",
        "\n",
        "It's worth noting that the output folder will include not only the stylized images but the original content and style images used as well. Thus, if you plan to run the images through an image recognition folder, it would be appropriate to delete the original images to achieve better accuracy.  "
      ]
    },
    {
      "cell_type": "markdown",
      "metadata": {
        "id": "38hTLWI2cEbo",
        "colab_type": "text"
      },
      "source": [
        "If we wish to control the influence of the content and style images on the final stylized images, we can use interpolation weights. They range from 0.0 to 1.0, where 0.0 includes no influence from the style image and 1.0 includes no influence from the content image. \n",
        "\n",
        "The image sizes are kept small to allow for faster image generation. The larger the image sizes, the slower the creation process."
      ]
    },
    {
      "cell_type": "code",
      "metadata": {
        "id": "aJlBoC2aeKrP",
        "colab_type": "code",
        "colab": {}
      },
      "source": [
        "# Add interpolation weights to allow for a varying range of influence from the content and style images.\n",
        "# These are generic paths. Insert the correct paths from your Google Drive. \n",
        "\n",
        "! arbitrary_image_stylization_with_weights \\\n",
        "  --checkpoint=\"path/to/arbitrary_style_transfer/pretrained_model/model.ckpt\" \\\n",
        "  --output_dir=\"path/to/output_dir\" \\\n",
        "  --style_images_paths=\"path/to/style_images/*.jpg\" \\\n",
        "  --content_images_paths=\"path/to/content_images/*.jpg\" \\\n",
        "  --image_size=256 \\\n",
        "  --content_square_crop=False \\\n",
        "  --style_image_size=256 \\\n",
        "  --style_square_crop=False \\\n",
        "  --interpolation_weights=[0.2,0.4,0.6,0.8] \\\n",
        "  --logtostderr"
      ],
      "execution_count": 0,
      "outputs": []
    },
    {
      "cell_type": "code",
      "metadata": {
        "id": "E5JNVfHi8FqU",
        "colab_type": "code",
        "colab": {}
      },
      "source": [
        ""
      ],
      "execution_count": 0,
      "outputs": []
    }
  ]
}