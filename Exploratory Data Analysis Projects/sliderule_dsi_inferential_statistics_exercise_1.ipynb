{
 "cells": [
  {
   "cell_type": "markdown",
   "metadata": {},
   "source": [
    "# What is the True Normal Human Body Temperature? \n",
    "\n",
    "#### Background\n",
    "\n",
    "The mean normal body temperature was held to be 37$^{\\circ}$C or 98.6$^{\\circ}$F for more than 120 years since it was first conceptualized and reported by Carl Wunderlich in a famous 1868 book. But, is this value statistically correct?"
   ]
  },
  {
   "cell_type": "markdown",
   "metadata": {},
   "source": [
    "<h3>Exercises</h3>\n",
    "\n",
    "<p>In this exercise, you will analyze a dataset of human body temperatures and employ the concepts of hypothesis testing, confidence intervals, and statistical significance.</p>\n",
    "\n",
    "<p>Answer the following questions <b>in this notebook below and submit to your Github account</b>.</p> \n",
    "\n",
    "<ol>\n",
    "<li>  Is the distribution of body temperatures normal? \n",
    "    <ul>\n",
    "    <li> Although this is not a requirement for the Central Limit Theorem to hold (read the introduction on Wikipedia's page about the CLT carefully: https://en.wikipedia.org/wiki/Central_limit_theorem), it gives us some peace of mind that the population may also be normally distributed if we assume that this sample is representative of the population.\n",
    "    <li> Think about the way you're going to check for the normality of the distribution. Graphical methods are usually used first, but there are also other ways: https://en.wikipedia.org/wiki/Normality_test\n",
    "    </ul>\n",
    "<li>  Is the sample size large? Are the observations independent?\n",
    "    <ul>\n",
    "    <li> Remember that this is a condition for the Central Limit Theorem, and hence the statistical tests we are using, to apply.\n",
    "    </ul>\n",
    "<li>  Is the true population mean really 98.6 degrees F?\n",
    "    <ul>\n",
    "    <li> First, try a bootstrap hypothesis test.\n",
    "    <li> Now, let's try frequentist statistical testing. Would you use a one-sample or two-sample test? Why?\n",
    "    <li> In this situation, is it appropriate to use the $t$ or $z$ statistic? \n",
    "    <li> Now try using the other test. How is the result be different? Why?\n",
    "    </ul>\n",
    "<li>  Draw a small sample of size 10 from the data and repeat both frequentist tests. \n",
    "    <ul>\n",
    "    <li> Which one is the correct one to use? \n",
    "    <li> What do you notice? What does this tell you about the difference in application of the $t$ and $z$ statistic?\n",
    "    </ul>\n",
    "<li>  At what temperature should we consider someone's temperature to be \"abnormal\"?\n",
    "    <ul>\n",
    "    <li> As in the previous example, try calculating everything using the boostrap approach, as well as the frequentist approach.\n",
    "    <li> Start by computing the margin of error and confidence interval. When calculating the confidence interval, keep in mind that you should use the appropriate formula for one draw, and not N draws.\n",
    "    </ul>\n",
    "<li>  Is there a significant difference between males and females in normal temperature?\n",
    "    <ul>\n",
    "    <li> What testing approach did you use and why?\n",
    "    <li> Write a story with your conclusion in the context of the original problem.\n",
    "    </ul>\n",
    "</ol>\n",
    "\n",
    "You can include written notes in notebook cells using Markdown: \n",
    "   - In the control panel at the top, choose Cell > Cell Type > Markdown\n",
    "   - Markdown syntax: http://nestacms.com/docs/creating-content/markdown-cheat-sheet\n",
    "\n",
    "#### Resources\n",
    "\n",
    "+ Information and data sources: http://www.amstat.org/publications/jse/datasets/normtemp.txt, http://www.amstat.org/publications/jse/jse_data_archive.htm\n",
    "+ Markdown syntax: http://nestacms.com/docs/creating-content/markdown-cheat-sheet\n",
    "\n",
    "****"
   ]
  },
  {
   "cell_type": "code",
   "execution_count": 36,
   "metadata": {},
   "outputs": [],
   "source": [
    "# Read the relevant dataset and import pandas\n",
    "import pandas as pd\n",
    "\n",
    "df = pd.read_csv('data/human_body_temperature.csv')"
   ]
  },
  {
   "cell_type": "code",
   "execution_count": 37,
   "metadata": {},
   "outputs": [],
   "source": [
    "# Import additional libraries\n",
    "import numpy as np\n",
    "import matplotlib.pyplot as plt\n",
    "import seaborn as sns\n",
    "import scipy"
   ]
  },
  {
   "cell_type": "code",
   "execution_count": 6,
   "metadata": {},
   "outputs": [
    {
     "data": {
      "text/html": [
       "<div>\n",
       "<style scoped>\n",
       "    .dataframe tbody tr th:only-of-type {\n",
       "        vertical-align: middle;\n",
       "    }\n",
       "\n",
       "    .dataframe tbody tr th {\n",
       "        vertical-align: top;\n",
       "    }\n",
       "\n",
       "    .dataframe thead th {\n",
       "        text-align: right;\n",
       "    }\n",
       "</style>\n",
       "<table border=\"1\" class=\"dataframe\">\n",
       "  <thead>\n",
       "    <tr style=\"text-align: right;\">\n",
       "      <th></th>\n",
       "      <th>temperature</th>\n",
       "      <th>gender</th>\n",
       "      <th>heart_rate</th>\n",
       "    </tr>\n",
       "  </thead>\n",
       "  <tbody>\n",
       "    <tr>\n",
       "      <th>0</th>\n",
       "      <td>99.3</td>\n",
       "      <td>F</td>\n",
       "      <td>68.0</td>\n",
       "    </tr>\n",
       "    <tr>\n",
       "      <th>1</th>\n",
       "      <td>98.4</td>\n",
       "      <td>F</td>\n",
       "      <td>81.0</td>\n",
       "    </tr>\n",
       "    <tr>\n",
       "      <th>2</th>\n",
       "      <td>97.8</td>\n",
       "      <td>M</td>\n",
       "      <td>73.0</td>\n",
       "    </tr>\n",
       "    <tr>\n",
       "      <th>3</th>\n",
       "      <td>99.2</td>\n",
       "      <td>F</td>\n",
       "      <td>66.0</td>\n",
       "    </tr>\n",
       "    <tr>\n",
       "      <th>4</th>\n",
       "      <td>98.0</td>\n",
       "      <td>F</td>\n",
       "      <td>73.0</td>\n",
       "    </tr>\n",
       "    <tr>\n",
       "      <th>5</th>\n",
       "      <td>99.2</td>\n",
       "      <td>M</td>\n",
       "      <td>83.0</td>\n",
       "    </tr>\n",
       "    <tr>\n",
       "      <th>6</th>\n",
       "      <td>98.0</td>\n",
       "      <td>M</td>\n",
       "      <td>71.0</td>\n",
       "    </tr>\n",
       "    <tr>\n",
       "      <th>7</th>\n",
       "      <td>98.8</td>\n",
       "      <td>M</td>\n",
       "      <td>78.0</td>\n",
       "    </tr>\n",
       "    <tr>\n",
       "      <th>8</th>\n",
       "      <td>98.4</td>\n",
       "      <td>F</td>\n",
       "      <td>84.0</td>\n",
       "    </tr>\n",
       "    <tr>\n",
       "      <th>9</th>\n",
       "      <td>98.6</td>\n",
       "      <td>F</td>\n",
       "      <td>86.0</td>\n",
       "    </tr>\n",
       "  </tbody>\n",
       "</table>\n",
       "</div>"
      ],
      "text/plain": [
       "   temperature gender  heart_rate\n",
       "0         99.3      F        68.0\n",
       "1         98.4      F        81.0\n",
       "2         97.8      M        73.0\n",
       "3         99.2      F        66.0\n",
       "4         98.0      F        73.0\n",
       "5         99.2      M        83.0\n",
       "6         98.0      M        71.0\n",
       "7         98.8      M        78.0\n",
       "8         98.4      F        84.0\n",
       "9         98.6      F        86.0"
      ]
     },
     "execution_count": 6,
     "metadata": {},
     "output_type": "execute_result"
    }
   ],
   "source": [
    "# Display the first 10 entries of the dataset\n",
    "df.head(10)"
   ]
  },
  {
   "cell_type": "code",
   "execution_count": 7,
   "metadata": {},
   "outputs": [
    {
     "data": {
      "text/plain": [
       "(130, 3)"
      ]
     },
     "execution_count": 7,
     "metadata": {},
     "output_type": "execute_result"
    }
   ],
   "source": [
    "# The dimensions of the dataset\n",
    "df.shape"
   ]
  },
  {
   "cell_type": "markdown",
   "metadata": {},
   "source": [
    "## 1) Is the distribution of body temperatures normal? "
   ]
  },
  {
   "cell_type": "markdown",
   "metadata": {},
   "source": [
    "There are 3 conditions that have to be true for a distribution to be considered normal:\n",
    "\n",
    "1. The population from which the data is chosen is normal. We'll have to assume that this is the case since it was established that this is a random sample.\n",
    "2. The sample size must be greater than or equal to 30. The dataset sample size is 130, so that conditon is fulfilled. \n",
    "3. The ECDF and theoretical CDF should be very similar, almost identical, which we'll establish below."
   ]
  },
  {
   "cell_type": "code",
   "execution_count": 38,
   "metadata": {},
   "outputs": [],
   "source": [
    "# Create a mean, standard deviation, and random normally distributed data from the temperature dataset.\n",
    "# This will be used to create a theoretical CDF. \n",
    "mean = np.mean(df.temperature)\n",
    "std = np.std(df.temperature)\n",
    "norm = np.random.normal(mean, std, 10000)"
   ]
  },
  {
   "cell_type": "code",
   "execution_count": 93,
   "metadata": {},
   "outputs": [],
   "source": [
    "# Create ECDF function\n",
    "def ecdf(data):\n",
    "    '''Computes the ECDF'''\n",
    "    # x values \n",
    "    x = np.sort(data)\n",
    "    \n",
    "    # number of values in the data\n",
    "    n = len(data)\n",
    "    \n",
    "    # y values\n",
    "    y = np.arange(1, n+1) / n\n",
    "    \n",
    "    return x, y"
   ]
  },
  {
   "cell_type": "code",
   "execution_count": 10,
   "metadata": {},
   "outputs": [],
   "source": [
    "x, y = ecdf(df.temperature)\n",
    "x_theor, y_theor = ecdf(norm)"
   ]
  },
  {
   "cell_type": "code",
   "execution_count": 11,
   "metadata": {},
   "outputs": [
    {
     "data": {
      "text/plain": [
       "Text(0, 0.5, 'CDF')"
      ]
     },
     "execution_count": 11,
     "metadata": {},
     "output_type": "execute_result"
    },
    {
     "data": {
      "image/png": "[encoded data removed]",
      "text/plain": [
       "<Figure size 432x288 with 1 Axes>"
      ]
     },
     "metadata": {},
     "output_type": "display_data"
    }
   ],
   "source": [
    "# PLot the ECDF of both the temperature dataset and the theoretical CDF\n",
    "sns.set()\n",
    "plt.plot(x_theor, y_theor)\n",
    "plt.plot(x, y,  marker='.', linestyle='none', color='orange')\n",
    "plt.xlabel('temperature F')\n",
    "plt.ylabel('CDF')"
   ]
  },
  {
   "cell_type": "markdown",
   "metadata": {},
   "source": [
    "The theoretical CDF fits the data very well, which suggests that the distribution of the body temperatures is normal."
   ]
  },
  {
   "cell_type": "markdown",
   "metadata": {},
   "source": [
    "## 2) Is the sample size large? Are the observations independent? "
   ]
  },
  {
   "cell_type": "markdown",
   "metadata": {},
   "source": [
    "As mentioned above, the sample size needs to be greater than or equal to 30 to be considered large. With the dataset containning 130 values, it meets the condition of being large.\n",
    "\n",
    "The 10% rule states that for a the values of a sample to be considered independent, they must be less than 10% of the population. If we assume that the population is the U.S. general population, the 130 people sampled are well below 10% of that population. Therefore, we can conclude that the observations are independent. "
   ]
  },
  {
   "cell_type": "code",
   "execution_count": 12,
   "metadata": {},
   "outputs": [
    {
     "data": {
      "text/plain": [
       "<seaborn.axisgrid.PairGrid at 0x19efaa20e10>"
      ]
     },
     "execution_count": 12,
     "metadata": {},
     "output_type": "execute_result"
    },
    {
     "data": {
      "image/png": "[encoded data removed]",
      "text/plain": [
       "<Figure size 360x360 with 6 Axes>"
      ]
     },
     "metadata": {},
     "output_type": "display_data"
    }
   ],
   "source": [
    "sns.pairplot(df)"
   ]
  },
  {
   "cell_type": "markdown",
   "metadata": {},
   "source": [
    "Additonally, the above pairplot doesn't seem to suggest a strong correlation between the data, which may be another indication that the observations are independent."
   ]
  },
  {
   "cell_type": "markdown",
   "metadata": {},
   "source": [
    "## 3) Is the true population mean really 98.6 degrees F? "
   ]
  },
  {
   "cell_type": "markdown",
   "metadata": {},
   "source": [
    "### First, try a bootstrap hypothesis test"
   ]
  },
  {
   "cell_type": "markdown",
   "metadata": {},
   "source": [
    "For our null hypothesis, we'll assume that the true population mean is 98.6 degrees F.\n",
    "Let's begin by developing a function for generating bootstrap replicates of one dimensional data and another function that then draws the bootstrap replicates. "
   ]
  },
  {
   "cell_type": "code",
   "execution_count": 1,
   "metadata": {},
   "outputs": [],
   "source": [
    "# Bootstrap data generator takes data and a function and returns random values by applying on the function of choice\n",
    "def bootstrap_replicate_1d(data, func):\n",
    "    return func(np.random.choice(data, size=len(data)))"
   ]
  },
  {
   "cell_type": "code",
   "execution_count": 2,
   "metadata": {},
   "outputs": [],
   "source": [
    "def draw_bs_reps(data, func, size):\n",
    "    \"\"\"Draw bootstrap replicates.\"\"\"\n",
    "\n",
    "    # Initialize array of replicates: bs_replicates\n",
    "    bs_replicates = np.empty(size)\n",
    "\n",
    "    # Generate the replicates\n",
    "    for i in range(size):\n",
    "        bs_replicates[i] = bootstrap_replicate_1d(data, func)\n",
    "\n",
    "    return bs_replicates"
   ]
  },
  {
   "cell_type": "code",
   "execution_count": 17,
   "metadata": {},
   "outputs": [],
   "source": [
    "# Create data of shifted mean values for bootstrap analysis by subtracting the mean and summing by 98.6.\n",
    "df['shift_temp'] = df['temperature'] - mean + 98.6"
   ]
  },
  {
   "cell_type": "code",
   "execution_count": 18,
   "metadata": {},
   "outputs": [],
   "source": [
    "# Since we're considering the true mean, we'll apply the mean function to our temperature data and create 10000 replicates.\n",
    "temp_bs_reps = draw_bs_reps(df.shift_temp, np.mean, 10000)"
   ]
  },
  {
   "cell_type": "markdown",
   "metadata": {},
   "source": [
    "We'll calculate the p-value. If it is lower than 0.05, we'll reject the null hypothesis. "
   ]
  },
  {
   "cell_type": "code",
   "execution_count": 30,
   "metadata": {},
   "outputs": [
    {
     "name": "stdout",
     "output_type": "stream",
     "text": [
      "The observed  mean is 98.24923076923078\n",
      "The p-value is 0.0\n"
     ]
    }
   ],
   "source": [
    "# Calculate the p-value by taking the sum of all values less than the mean and dividing by the number of replicate  values. \n",
    "# Print the observed mean calculated earlier as well as the p-value.\n",
    "p_value = sum(temp_bs_reps < mean)/len(temp_bs_reps)\n",
    "print('The observed  mean is ' + str(mean))\n",
    "print('The p-value is ' + str(p_value))"
   ]
  },
  {
   "cell_type": "markdown",
   "metadata": {},
   "source": [
    "The p-value appears to be essentially 0, which is well below our threshold of 0.05. Therefore, we reject the null hypothesis\n",
    "that the true population mean is 98.6. As the the histogram below makes clear, the observed mean is nowhere close to the \n",
    "mean of the bootstrapped data."
   ]
  },
  {
   "cell_type": "code",
   "execution_count": 118,
   "metadata": {},
   "outputs": [
    {
     "data": {
      "image/png": "[encoded data removed]",
      "text/plain": [
       "<Figure size 432x288 with 1 Axes>"
      ]
     },
     "metadata": {},
     "output_type": "display_data"
    }
   ],
   "source": [
    "# Plot the histogram along with a line to indicate the observed mean\n",
    "plt.hist(temp_bs_reps, bins=50)\n",
    "plt.title('Bootstrap Samples Mean vs Observed Mean')\n",
    "plt.xlabel('Temperature')\n",
    "plt.ylabel('PDF')\n",
    "plt.axvline(x=mean, color='orange')\n",
    "plt.show()"
   ]
  },
  {
   "cell_type": "markdown",
   "metadata": {},
   "source": [
    "### Now, let's try frequentist statistical testing. Would you use a one-sample or two-sample test? Why?"
   ]
  },
  {
   "cell_type": "markdown",
   "metadata": {},
   "source": [
    "For a frequentist approach, we would use a one-sample test because we are only concerned with determining whether the true population mean is 98.6. We are not concerned with wheter it is higher or lower than than 98.6. If we did wish to determine whether it was higher or lower, a two-sample test would be more appropriate. "
   ]
  },
  {
   "cell_type": "markdown",
   "metadata": {},
   "source": [
    "### In this situation, is it appropriate to use the 𝑡 or 𝑧 statistic? "
   ]
  },
  {
   "cell_type": "markdown",
   "metadata": {},
   "source": [
    "A z statistic would be more appropriate because we are dealing with a sample size greater than 30. This, of course, assumes that the data is independent, normally distributed, and randomly selected. "
   ]
  },
  {
   "cell_type": "code",
   "execution_count": 72,
   "metadata": {},
   "outputs": [],
   "source": [
    "# First import the z-test from scipy\n",
    "import scipy\n",
    "from statsmodels.stats.weightstats import ztest"
   ]
  },
  {
   "cell_type": "code",
   "execution_count": 32,
   "metadata": {},
   "outputs": [
    {
     "name": "stdout",
     "output_type": "stream",
     "text": [
      "The z stat is -5.4548232923645195\n",
      "The p-value of the z stat is 4.9021570141012155e-08\n"
     ]
    }
   ],
   "source": [
    "# Applying the z statistic\n",
    "z_val, pz_val = ztest(df['temperature'], value=98.6)\n",
    "print(\"The z stat is \" + str(z_val)) \n",
    "print(\"The p-value of the z stat is \" + str(pz_val))"
   ]
  },
  {
   "cell_type": "markdown",
   "metadata": {},
   "source": [
    "The p-value, again, is well below 0.05. Thus, we, again, reject the null hypothesis. "
   ]
  },
  {
   "cell_type": "markdown",
   "metadata": {},
   "source": [
    "### Now try using the other test. How is the result different? Why? "
   ]
  },
  {
   "cell_type": "code",
   "execution_count": 33,
   "metadata": {},
   "outputs": [
    {
     "name": "stdout",
     "output_type": "stream",
     "text": [
      "The t stat is -5.4548232923645195\n",
      "The p-value of the t stat is 2.4106320415561276e-07\n"
     ]
    }
   ],
   "source": [
    "# Import the t test from scipy\n",
    "from scipy.stats import ttest_1samp\n",
    "# Applying the t statistic\n",
    "t_val, pt_val = ttest_1samp(df['temperature'], 98.6)\n",
    "print(\"The t stat is \" + str(t_val)) \n",
    "print(\"The p-value of the t stat is \" + str(pt_val))"
   ]
  },
  {
   "cell_type": "markdown",
   "metadata": {},
   "source": [
    "The z and t values themselves are the same, and while both tests' p-values fall well below the 0.05 threshold,\n",
    "the t test is not as small as that of the z test. What that indicates is that with the t test, we are less sure \n",
    "that we rightly rejected the null hypothesis. While the t test can be applied to larger data sets, it lowers the probablity \n",
    "of our confidence interval because the t test operates under the assumption that the population standard deviation is \n",
    "unknown."
   ]
  },
  {
   "cell_type": "markdown",
   "metadata": {},
   "source": [
    "## 4) Draw a small sample of size 10 from the data and repeat both frequentist tests. "
   ]
  },
  {
   "cell_type": "markdown",
   "metadata": {},
   "source": [
    "### Which one is the correct one to use? "
   ]
  },
  {
   "cell_type": "markdown",
   "metadata": {},
   "source": [
    "Since the sample size is 10, which is less than 30, the t statistic is the more appropriate test."
   ]
  },
  {
   "cell_type": "markdown",
   "metadata": {},
   "source": [
    "### What do you notice? What does this tell you about the difference in application of the 𝑡 and 𝑧 statistic?"
   ]
  },
  {
   "cell_type": "code",
   "execution_count": 59,
   "metadata": {},
   "outputs": [
    {
     "data": {
      "text/plain": [
       "array([98.3, 97.3, 98.6, 97.2, 98.5, 97.5, 97.8, 97.6, 97.8, 98.7])"
      ]
     },
     "execution_count": 59,
     "metadata": {},
     "output_type": "execute_result"
    }
   ],
   "source": [
    "# Pick 10 random samples from the temperature data by first seeding a number and then selecting 10 values based on the seed.\n",
    "np.random.seed(89)\n",
    "temp10_samp = np.random.choice(df['temperature'], 10)\n",
    "temp10_samp"
   ]
  },
  {
   "cell_type": "code",
   "execution_count": 60,
   "metadata": {},
   "outputs": [
    {
     "name": "stdout",
     "output_type": "stream",
     "text": [
      "The t stat is -3.8252766906763593\n",
      "The p-value of the t stat is 0.004056973392665601\n"
     ]
    }
   ],
   "source": [
    "# Apply the t test to the 10 sample values\n",
    "t10_val, pt10_val = ttest_1samp(temp10_samp, 98.6)\n",
    "print(\"The t stat is \" + str(t10_val)) \n",
    "print(\"The p-value of the t stat is \" + str(pt10_val))"
   ]
  },
  {
   "cell_type": "code",
   "execution_count": 61,
   "metadata": {},
   "outputs": [
    {
     "name": "stdout",
     "output_type": "stream",
     "text": [
      "The z stat is -3.8252766906763593\n",
      "The p-value of the z stat is 0.00013062529362507398\n"
     ]
    }
   ],
   "source": [
    "# Applying the z statistic tot the same 10 values\n",
    "z10_val, pz10_val = ztest(temp10_samp, value=98.6)\n",
    "print(\"The z stat is \" + str(z10_val)) \n",
    "print(\"The p-value of the z stat is \" + str(pz10_val))"
   ]
  },
  {
   "cell_type": "markdown",
   "metadata": {},
   "source": [
    "The z and t values are identical. However, their respective p-values are quite different, with the z test's p-value giving us greater confidence that the null hypothesis should be rejected. Yet, because a z test is not usually recommended for small sample sizes, we may not be able to trust its p-value as much as that of the t test. "
   ]
  },
  {
   "cell_type": "markdown",
   "metadata": {},
   "source": [
    "## 5) At what temperature should we consider someone's temperature to be \"abnormal\"? "
   ]
  },
  {
   "cell_type": "markdown",
   "metadata": {},
   "source": [
    "### As in the previous example, try calculating everything using the boostrap approach, as well as the frequentist approach. \n",
    "### Start by computing the margin of error and confidence interval. When calculating the confidence interval, keep in mind that you should use the appropriate formula for one draw, and not N draws. "
   ]
  },
  {
   "cell_type": "code",
   "execution_count": 64,
   "metadata": {},
   "outputs": [
    {
     "name": "stdout",
     "output_type": "stream",
     "text": [
      "The 95% confidence interval for the bootstrap method is [98.12384615 98.37540385]\n",
      "The 95% confidence interval for the frequentist approach is [96.82127368 99.7049611 ]\n"
     ]
    }
   ],
   "source": [
    "# The confidence interval of the bootstrap method. Begin by drawing 10000 replicates using the mean function\n",
    "bs_reps = draw_bs_reps(df['temperature'], np.mean, 10000)\n",
    "\n",
    "# Apply np.percentile to find the confidence interval of p < 0.05\n",
    "conf_int_bs = np.percentile(bs_reps, [2.5, 97.5])\n",
    "print('The 95% confidence interval for the bootstrap method is ' + str(conf_int_bs))\n",
    "\n",
    "# The confidence interval using the frequentist approach\n",
    "conf_int_freq = np.percentile(norm, [2.5, 97.5])\n",
    "print('The 95% confidence interval for the frequentist approach is ' + str(conf_int_freq))"
   ]
  },
  {
   "cell_type": "markdown",
   "metadata": {},
   "source": [
    "For the margin of error, we'll be using the formula: z * (std(n) / (len(n) ** (1/2)),  where z is the z score of the data, n. "
   ]
  },
  {
   "cell_type": "code",
   "execution_count": 84,
   "metadata": {},
   "outputs": [
    {
     "name": "stdout",
     "output_type": "stream",
     "text": [
      "The margin of error for the bootstrap method is 0.0\n",
      "The margin of error for the frequentist approach is 0.017793039199874114\n"
     ]
    }
   ],
   "source": [
    "# The margin of error for the bootstrap method\n",
    "marg_err_bs = ztest(x1=bs_reps, value=np.mean(bs_reps))[0] * (np.std(bs_reps) / (len(bs_reps) ** (1/2)))\n",
    "print('The margin of error for the bootstrap method is ' + str(marg_err_bs))\n",
    "\n",
    "# The margin of error for the frequentist approach\n",
    "marg_err_freq = ztest(x1=norm, value=mean)[0] * (std / (len(norm) ** (1/2) ))\n",
    "print('The margin of error for the frequentist approach is ' + str(marg_err_freq))"
   ]
  },
  {
   "cell_type": "markdown",
   "metadata": {},
   "source": [
    "The 95% confidence interval for the bootstrap method is very narrow, and anything lower than 98.12 F and higher than 98.38 F would be considered abnormal. \n",
    "\n",
    "However, the frequentist approach gives a more realistic interval, in which anything lower 96.82 F and higher than 99.70 F would be considered abnormal. "
   ]
  },
  {
   "cell_type": "markdown",
   "metadata": {},
   "source": [
    "## 6) Is there a significant difference between males and females in normal temperature? "
   ]
  },
  {
   "cell_type": "code",
   "execution_count": 90,
   "metadata": {},
   "outputs": [],
   "source": [
    "# Create separate temperature lists for both females and males\n",
    "fem_temp = df[df['gender'] == 'F']['temperature']\n",
    "ma_temp =  df[df['gender'] == 'M']['temperature']"
   ]
  },
  {
   "cell_type": "code",
   "execution_count": 116,
   "metadata": {},
   "outputs": [
    {
     "name": "stdout",
     "output_type": "stream",
     "text": [
      "Female mean temperature: 98.39384615384613\n",
      "Male mean temperature: 98.1046153846154\n"
     ]
    }
   ],
   "source": [
    "# The mean temperaturesfor both females and males\n",
    "fem_mean = np.mean(fem_temp)\n",
    "ma_mean = np.mean(ma_temp)\n",
    "print('Female mean temperature: ' + str(fem_mean))\n",
    "print('Male mean temperature: ' + str(ma_mean))"
   ]
  },
  {
   "cell_type": "code",
   "execution_count": 96,
   "metadata": {},
   "outputs": [],
   "source": [
    "# ECDF for both females and males\n",
    "x_fem, y_fem = ecdf(fem_temp)\n",
    "x_ma, y_ma = ecdf(ma_temp)"
   ]
  },
  {
   "cell_type": "code",
   "execution_count": 100,
   "metadata": {},
   "outputs": [
    {
     "data": {
      "image/png": "[encoded data removed]",
      "text/plain": [
       "<Figure size 432x288 with 1 Axes>"
      ]
     },
     "metadata": {},
     "output_type": "display_data"
    }
   ],
   "source": [
    "# Plot both female and male ECDF against the theoretical CDF to get a sense of how they differ\n",
    "_ = plt.plot(x_fem, y_fem, marker='.', linestyle='none', color='red')\n",
    "_ = plt.plot(x_ma, y_ma, marker='.', linestyle='none', color='blue')\n",
    "_ = plt.plot(x_theor, y_theor, marker='.', linestyle='none', color='purple')\n",
    "_ = plt.xlabel('Temperature')\n",
    "_ = plt.ylabel('CDF')\n",
    "plt.show()"
   ]
  },
  {
   "cell_type": "markdown",
   "metadata": {},
   "source": [
    "It appears that females have a higher mean temperature than men. We'll see if that holds true after a more detailed analysis"
   ]
  },
  {
   "cell_type": "markdown",
   "metadata": {},
   "source": [
    "### What testing approach did you use and why? "
   ]
  },
  {
   "cell_type": "markdown",
   "metadata": {},
   "source": [
    "We'll use a permutation test because we're interested in determining whether there is significant enough difference \n",
    "between the temperatures between females and males to reject the null hypothesis that assumes that there is no significant difference."
   ]
  },
  {
   "cell_type": "code",
   "execution_count": 91,
   "metadata": {},
   "outputs": [],
   "source": [
    "# Create a permutation function\n",
    "def permutation_sample(data1, data2):\n",
    "    \"\"\"Generate a permutation sample from two data sets.\"\"\"\n",
    "    # Concatenate the data sets\n",
    "    data = np.concatenate((data1, data2))\n",
    "\n",
    "    # Permute the concatenated array\n",
    "    permuted_data = np.random.permutation(data)\n",
    "\n",
    "    # Split the permuted array into two\n",
    "    perm_sample_1 = permuted_data[:len(data1)]\n",
    "    perm_sample_2 = permuted_data[len(data1):]\n",
    "\n",
    "    return perm_sample_1, perm_sample_2"
   ]
  },
  {
   "cell_type": "code",
   "execution_count": 111,
   "metadata": {},
   "outputs": [],
   "source": [
    "# Create a function to draw permutation replicates\n",
    "def draw_perm_reps(data_1, data_2, func, size=1):\n",
    "    \"\"\"Generate multiple permutation replicates.\"\"\"\n",
    "    # Initialize array of replicates\n",
    "    perm_replicates = np.empty(size)\n",
    "\n",
    "    for i in range(size):\n",
    "        # Generate permutation sample\n",
    "        perm_sample_1, perm_sample_2 = permutation_sample(data_1, data_2)\n",
    "\n",
    "        # Compute the test statistic\n",
    "        perm_replicates[i] = func(perm_sample_1, perm_sample_2)\n",
    "\n",
    "    return perm_replicates"
   ]
  },
  {
   "cell_type": "code",
   "execution_count": 103,
   "metadata": {},
   "outputs": [],
   "source": [
    "# Finally, create a function to determine the difference of means between two arrays\n",
    "def diff_of_means(data_1, data_2):\n",
    "    \"\"\"Difference in means of two arrays.\"\"\"\n",
    "    # The difference of means of data_1, data_2: diff\n",
    "    diff = np.mean(data_1) - np.mean(data_2)\n",
    "    return diff"
   ]
  },
  {
   "cell_type": "code",
   "execution_count": 117,
   "metadata": {},
   "outputs": [
    {
     "name": "stdout",
     "output_type": "stream",
     "text": [
      "The difference of means betwwen female and male temperatures is 0.289230769230727\n"
     ]
    }
   ],
   "source": [
    "# Calculate the difference of means between females and males\n",
    "temp_diff = diff_of_means(fem_temp, ma_temp)\n",
    "print('The difference of means betwwen female and male temperatures is ' + str(temp_diff))"
   ]
  },
  {
   "cell_type": "code",
   "execution_count": 113,
   "metadata": {},
   "outputs": [],
   "source": [
    "# Draw 10000 replicates of fmale and male data using the difference of means function\n",
    "perm_reps = draw_perm_reps(fem_temp, ma_temp, diff_of_means, 10000) "
   ]
  },
  {
   "cell_type": "code",
   "execution_count": 114,
   "metadata": {},
   "outputs": [
    {
     "name": "stdout",
     "output_type": "stream",
     "text": [
      "The p-value of the difference of means between females and males is 0.012\n"
     ]
    }
   ],
   "source": [
    "# Compute the p-value based on how many of the permutation replicates are greater than the mean difference of temperature\n",
    "p = np.sum(perm_reps >= temp_diff) / len(perm_reps)\n",
    "print('The p-value of the difference of means between females and males is ' + str(p))"
   ]
  },
  {
   "cell_type": "markdown",
   "metadata": {},
   "source": [
    "The p-value is lower than the 0.05 threshold for a 95% confidence interval. Therefore, we reject the null hypothesis \n",
    "that females and males have the same normal temperature. "
   ]
  },
  {
   "cell_type": "markdown",
   "metadata": {},
   "source": [
    "### Write a story with your conclusion in the context of the original problem. "
   ]
  },
  {
   "cell_type": "markdown",
   "metadata": {},
   "source": [
    "Overall, it appears that, based on the data and a 95% confidence interval, we have good reason to reject the idea that the mean human body temperature is 98.6 F. The above analysis indicates that it may be closer to 98.2 F. In addition, our p-value calculations suggest that that it is unlikely that females and males have the same mean temerature, with the data suggesting that the mean temperature  of females is around 98.3 F and that of males isaround 98.1 F."
   ]
  },
  {
   "cell_type": "code",
   "execution_count": null,
   "metadata": {},
   "outputs": [],
   "source": []
  }
 ],
 "metadata": {
  "kernelspec": {
   "display_name": "Python 3",
   "language": "python",
   "name": "python3"
  },
  "language_info": {
   "codemirror_mode": {
    "name": "ipython",
    "version": 3
   },
   "file_extension": ".py",
   "mimetype": "text/x-python",
   "name": "python",
   "nbconvert_exporter": "python",
   "pygments_lexer": "ipython3",
   "version": "3.7.3"
  }
 },
 "nbformat": 4,
 "nbformat_minor": 1
}
